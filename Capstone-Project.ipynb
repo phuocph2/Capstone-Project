{
 "cells": [
  {
   "cell_type": "markdown",
   "metadata": {
    "collapsed": true
   },
   "source": [
    "# 1. Introduction/Business Problem"
   ]
  },
  {
   "cell_type": "markdown",
   "metadata": {},
   "source": [
    "New York City’s demographics show that it is a large and ethnically diverse metropolis. It is the largest city in the United States with a long history of international immigration. With it’s diverse culture , comes diverse food items. New York is named the best city for vegetarians. Coming here, you will have a myriad of vegetarian options at restaurants or mobile food trucks. In addition, many vegetarian events are also held in New York, such as the Vegetarian Food Festival. This report explores which neighborhoods and boroughs of New York City have the most as well as the best vegetarian restaurants. Additionally, I will attempt to answer the questions “Where should I open an vegetarian Restaurant?” and “Where should I stay If I want great vegetarian food?”."
   ]
  },
  {
   "cell_type": "markdown",
   "metadata": {},
   "source": [
    "# 2. Data"
   ]
  },
  {
   "cell_type": "markdown",
   "metadata": {},
   "source": [
    "In order to answer the above questions, data on New York City neighborhoods, boroughs to include boundaries, latitude, longitude, restaurants, and restaurant ratings and tips are required.\n",
    "\n",
    "New York City data containing the neighborhoods and boroughs, latitudes, and longitudes will be obtained from the data source: https://cocl.us/new_york_dataset\n",
    "\n",
    "New York City data containing neighborhood boundaries will be obtained from the data source: https://data.cityofnewyork.us/City-Government/Borough-Boundaries/tqmj-j8zm\n",
    "\n",
    "All data related to locations and quality of vegetarian restaurants will be obtained via the FourSquare API utilized via the Request library in Python."
   ]
  },
  {
   "cell_type": "markdown",
   "metadata": {},
   "source": [
    "# 3. Approach"
   ]
  },
  {
   "cell_type": "markdown",
   "metadata": {},
   "source": [
    "The Methodology section will describe the main components of our analysis and predication system. The Methodology section comprises four stages:\n",
    "\n",
    "- Data will be collected from https://cocl.us/new_york_dataset and cleaned and processed into a dataframe.\n",
    "- FourSquare be used to locate all venues and then filtered by vegetarian restaurants. Ratings, tips, and likes by users will be counted and added to the dataframe.\n",
    "- Data will be sorted based on rankings\n",
    "- Finally, the data be will be visually assessed using graphing from various Python libraries."
   ]
  },
  {
   "cell_type": "markdown",
   "metadata": {},
   "source": [
    "# 4. Analysis"
   ]
  },
  {
   "cell_type": "markdown",
   "metadata": {},
   "source": [
    "Before we get the data and start exploring it, let's download all the dependencies that we will need."
   ]
  },
  {
   "cell_type": "code",
   "execution_count": 141,
   "metadata": {},
   "outputs": [],
   "source": [
    "import numpy as np # library to handle data in a vectorized manner\n",
    "\n",
    "import pandas as pd # library for data analsysis\n",
    "pd.set_option('display.max_columns', None)\n",
    "pd.set_option('display.max_rows', None)\n",
    "\n",
    "import json # library to handle JSON files\n",
    "import os\n",
    "\n",
    "#!conda install -c conda-forge geopy --yes # uncomment this line if you haven't completed the Foursquare API lab\n",
    "from geopy.geocoders import Nominatim # convert an address into latitude and longitude values\n",
    "\n",
    "import requests # library to handle requests\n",
    "from pandas.io.json import json_normalize # tranform JSON file into a pandas dataframe\n",
    "\n",
    "# Matplotlib and associated plotting modules\n",
    "import matplotlib.cm as cm\n",
    "import matplotlib.colors as colors\n",
    "import matplotlib.pyplot as plt\n",
    "\n",
    "# import k-means from clustering stage\n",
    "from sklearn.cluster import KMeans\n",
    "\n",
    "#!conda install -c conda-forge folium=0.5.0 --yes # uncomment this line if you haven't completed the Foursquare API lab\n",
    "import folium # map rendering library"
   ]
  },
  {
   "cell_type": "markdown",
   "metadata": {},
   "source": [
    "#### Download and Explore Dataset"
   ]
  },
  {
   "cell_type": "code",
   "execution_count": 142,
   "metadata": {},
   "outputs": [
    {
     "data": {
      "text/html": [
       "<div>\n",
       "<style scoped>\n",
       "    .dataframe tbody tr th:only-of-type {\n",
       "        vertical-align: middle;\n",
       "    }\n",
       "\n",
       "    .dataframe tbody tr th {\n",
       "        vertical-align: top;\n",
       "    }\n",
       "\n",
       "    .dataframe thead th {\n",
       "        text-align: right;\n",
       "    }\n",
       "</style>\n",
       "<table border=\"1\" class=\"dataframe\">\n",
       "  <thead>\n",
       "    <tr style=\"text-align: right;\">\n",
       "      <th></th>\n",
       "      <th>Borough</th>\n",
       "      <th>Neighborhood</th>\n",
       "      <th>Latitude</th>\n",
       "      <th>Longitude</th>\n",
       "    </tr>\n",
       "  </thead>\n",
       "  <tbody>\n",
       "    <tr>\n",
       "      <th>0</th>\n",
       "      <td>Bronx</td>\n",
       "      <td>Wakefield</td>\n",
       "      <td>40.894705</td>\n",
       "      <td>-73.847201</td>\n",
       "    </tr>\n",
       "    <tr>\n",
       "      <th>1</th>\n",
       "      <td>Bronx</td>\n",
       "      <td>Co-op City</td>\n",
       "      <td>40.874294</td>\n",
       "      <td>-73.829939</td>\n",
       "    </tr>\n",
       "    <tr>\n",
       "      <th>2</th>\n",
       "      <td>Bronx</td>\n",
       "      <td>Eastchester</td>\n",
       "      <td>40.887556</td>\n",
       "      <td>-73.827806</td>\n",
       "    </tr>\n",
       "    <tr>\n",
       "      <th>3</th>\n",
       "      <td>Bronx</td>\n",
       "      <td>Fieldston</td>\n",
       "      <td>40.895437</td>\n",
       "      <td>-73.905643</td>\n",
       "    </tr>\n",
       "    <tr>\n",
       "      <th>4</th>\n",
       "      <td>Bronx</td>\n",
       "      <td>Riverdale</td>\n",
       "      <td>40.890834</td>\n",
       "      <td>-73.912585</td>\n",
       "    </tr>\n",
       "  </tbody>\n",
       "</table>\n",
       "</div>"
      ],
      "text/plain": [
       "  Borough Neighborhood   Latitude  Longitude\n",
       "0   Bronx    Wakefield  40.894705 -73.847201\n",
       "1   Bronx   Co-op City  40.874294 -73.829939\n",
       "2   Bronx  Eastchester  40.887556 -73.827806\n",
       "3   Bronx    Fieldston  40.895437 -73.905643\n",
       "4   Bronx    Riverdale  40.890834 -73.912585"
      ]
     },
     "execution_count": 142,
     "metadata": {},
     "output_type": "execute_result"
    }
   ],
   "source": [
    "!wget -q -O 'newyork_data.json' https://cocl.us/new_york_dataset\n",
    "\n",
    "# load the data.\n",
    "with open('newyork_data.json') as json_data:\n",
    "    newyork_data = json.load(json_data)\n",
    "    \n",
    "neighborhoods_data = newyork_data['features']\n",
    "\n",
    "# define the dataframe columns\n",
    "column_names = ['Borough', 'Neighborhood', 'Latitude', 'Longitude'] \n",
    "\n",
    "# instantiate the dataframe\n",
    "new_york_data = pd.DataFrame(columns=column_names)\n",
    "\n",
    "# Then let's loop through the data and fill the dataframe one row at a time.\n",
    "for data in neighborhoods_data:\n",
    "    borough = neighborhood_name = data['properties']['borough'] \n",
    "    neighborhood_name = data['properties']['name']\n",
    "        \n",
    "    neighborhood_latlon = data['geometry']['coordinates']\n",
    "    neighborhood_lat = neighborhood_latlon[1]\n",
    "    neighborhood_lon = neighborhood_latlon[0]\n",
    "    \n",
    "    new_york_data = new_york_data.append({'Borough': borough,\n",
    "                                          'Neighborhood': neighborhood_name,\n",
    "                                          'Latitude': neighborhood_lat,\n",
    "                                          'Longitude': neighborhood_lon}, ignore_index=True)\n",
    "\n",
    "# Quickly examine the resulting dataframe.\n",
    "new_york_data.head()"
   ]
  },
  {
   "cell_type": "code",
   "execution_count": 143,
   "metadata": {},
   "outputs": [
    {
     "data": {
      "text/plain": [
       "(306, 4)"
      ]
     },
     "execution_count": 143,
     "metadata": {},
     "output_type": "execute_result"
    }
   ],
   "source": [
    "new_york_data.shape"
   ]
  },
  {
   "cell_type": "markdown",
   "metadata": {},
   "source": [
    "So there are total of 306 different Neighborhoods in New York"
   ]
  },
  {
   "cell_type": "code",
   "execution_count": 144,
   "metadata": {},
   "outputs": [
    {
     "data": {
      "image/png": "[encoded data removed]",
      "text/plain": [
       "<Figure size 900x500 with 1 Axes>"
      ]
     },
     "metadata": {
      "needs_background": "light"
     },
     "output_type": "display_data"
    }
   ],
   "source": [
    "plt.figure(figsize=(9,5), dpi = 100)\n",
    "# title\n",
    "plt.title('Number of Neighborhood for each Borough in New York City')\n",
    "#On x-axis\n",
    "plt.xlabel('Borough', fontsize = 15)\n",
    "#On y-axis\n",
    "plt.ylabel('No.of Neighborhood', fontsize=15)\n",
    "#giving a bar plot\n",
    "new_york_data.groupby('Borough')['Neighborhood'].count().plot(kind='bar')\n",
    "#legend\n",
    "plt.legend()\n",
    "#displays the plot\n",
    "plt.show()"
   ]
  },
  {
   "cell_type": "markdown",
   "metadata": {},
   "source": [
    "We see that Queens has highest number of neighborhoods. Now we will collect vegetarian resturants for each Neighborhood"
   ]
  },
  {
   "cell_type": "markdown",
   "metadata": {},
   "source": [
    "We define a function to intract with FourSquare API and get top 100 venues within a radius of 1000 metres for a given latitude and longitude. Below function will return us the venue id , venue name and category."
   ]
  },
  {
   "cell_type": "code",
   "execution_count": 7,
   "metadata": {},
   "outputs": [],
   "source": [
    "def get_venues(lat,lng):\n",
    "    \n",
    "    #set variables\n",
    "    radius=1000\n",
    "    LIMIT=100\n",
    "    CLIENT_ID = 'HMGO4ODJSAIUY4TDY1J544ST25MFQP0KNUSHJG2TETXUCUHM'\n",
    "    CLIENT_SECRET = 'B5L33YNXBB3XGJUCPDJE4E2V3SD50KH1DMH3ZA25I25AXYJ0'\n",
    "    VERSION = '20180605' # Foursquare API version\n",
    "    \n",
    "    #url to fetch data from foursquare api\n",
    "    url = 'https://api.foursquare.com/v2/venues/explore?&client_id={}&client_secret={}&v={}&ll={},{}&radius={}&limit={}'.format(\n",
    "            CLIENT_ID, \n",
    "            CLIENT_SECRET, \n",
    "            VERSION,\n",
    "            lat,\n",
    "            lng, \n",
    "            radius, \n",
    "            LIMIT)\n",
    "    \n",
    "    # get all the data\n",
    "    results = requests.get(url).json()\n",
    "    venue_data=results[\"response\"]['groups'][0]['items']\n",
    "    venue_details=[]\n",
    "    for row in venue_data:\n",
    "        try:\n",
    "            venue_id=row['venue']['id']\n",
    "            venue_name=row['venue']['name']\n",
    "            venue_category=row['venue']['categories'][0]['name']\n",
    "            venue_details.append([venue_id,venue_name,venue_category])\n",
    "        except KeyError:\n",
    "            pass\n",
    "        \n",
    "    column_names=['ID','Name','Category']\n",
    "    df = pd.DataFrame(venue_details,columns=column_names)\n",
    "    return df"
   ]
  },
  {
   "cell_type": "code",
   "execution_count": 8,
   "metadata": {},
   "outputs": [
    {
     "name": "stdout",
     "output_type": "stream",
     "text": [
      "( 1 / 306 ) Vegetarian Resturants in Wakefield, Bronx:0\n",
      "( 2 / 306 ) Vegetarian Resturants in Co-op City, Bronx:0\n",
      "( 3 / 306 ) Vegetarian Resturants in Eastchester, Bronx:0\n",
      "( 4 / 306 ) Vegetarian Resturants in Fieldston, Bronx:0\n",
      "( 5 / 306 ) Vegetarian Resturants in Riverdale, Bronx:0\n",
      "( 6 / 306 ) Vegetarian Resturants in Kingsbridge, Bronx:0\n",
      "( 7 / 306 ) Vegetarian Resturants in Marble Hill, Manhattan:0\n",
      "( 8 / 306 ) Vegetarian Resturants in Woodlawn, Bronx:0\n",
      "( 9 / 306 ) Vegetarian Resturants in Norwood, Bronx:0\n",
      "( 10 / 306 ) Vegetarian Resturants in Williamsbridge, Bronx:0\n",
      "( 11 / 306 ) Vegetarian Resturants in Baychester, Bronx:0\n",
      "( 12 / 306 ) Vegetarian Resturants in Pelham Parkway, Bronx:0\n",
      "( 13 / 306 ) Vegetarian Resturants in City Island, Bronx:0\n",
      "( 14 / 306 ) Vegetarian Resturants in Bedford Park, Bronx:0\n",
      "( 15 / 306 ) Vegetarian Resturants in University Heights, Bronx:0\n",
      "( 16 / 306 ) Vegetarian Resturants in Morris Heights, Bronx:0\n",
      "( 17 / 306 ) Vegetarian Resturants in Fordham, Bronx:0\n",
      "( 18 / 306 ) Vegetarian Resturants in East Tremont, Bronx:0\n",
      "( 19 / 306 ) Vegetarian Resturants in West Farms, Bronx:0\n",
      "( 20 / 306 ) Vegetarian Resturants in High  Bridge, Bronx:0\n",
      "( 21 / 306 ) Vegetarian Resturants in Melrose, Bronx:0\n",
      "( 22 / 306 ) Vegetarian Resturants in Mott Haven, Bronx:0\n",
      "( 23 / 306 ) Vegetarian Resturants in Port Morris, Bronx:0\n",
      "( 24 / 306 ) Vegetarian Resturants in Longwood, Bronx:0\n",
      "( 25 / 306 ) Vegetarian Resturants in Hunts Point, Bronx:0\n",
      "( 26 / 306 ) Vegetarian Resturants in Morrisania, Bronx:0\n",
      "( 27 / 306 ) Vegetarian Resturants in Soundview, Bronx:0\n",
      "( 28 / 306 ) Vegetarian Resturants in Clason Point, Bronx:0\n",
      "( 29 / 306 ) Vegetarian Resturants in Throgs Neck, Bronx:0\n",
      "( 30 / 306 ) Vegetarian Resturants in Country Club, Bronx:0\n",
      "( 31 / 306 ) Vegetarian Resturants in Parkchester, Bronx:0\n",
      "( 32 / 306 ) Vegetarian Resturants in Westchester Square, Bronx:0\n",
      "( 33 / 306 ) Vegetarian Resturants in Van Nest, Bronx:0\n",
      "( 34 / 306 ) Vegetarian Resturants in Morris Park, Bronx:0\n",
      "( 35 / 306 ) Vegetarian Resturants in Belmont, Bronx:0\n",
      "( 36 / 306 ) Vegetarian Resturants in Spuyten Duyvil, Bronx:0\n",
      "( 37 / 306 ) Vegetarian Resturants in North Riverdale, Bronx:0\n",
      "( 38 / 306 ) Vegetarian Resturants in Pelham Bay, Bronx:0\n",
      "( 39 / 306 ) Vegetarian Resturants in Schuylerville, Bronx:0\n",
      "( 40 / 306 ) Vegetarian Resturants in Edgewater Park, Bronx:0\n",
      "( 41 / 306 ) Vegetarian Resturants in Castle Hill, Bronx:0\n",
      "( 42 / 306 ) Vegetarian Resturants in Olinville, Bronx:0\n",
      "( 43 / 306 ) Vegetarian Resturants in Pelham Gardens, Bronx:0\n",
      "( 44 / 306 ) Vegetarian Resturants in Concourse, Bronx:0\n",
      "( 45 / 306 ) Vegetarian Resturants in Unionport, Bronx:0\n",
      "( 46 / 306 ) Vegetarian Resturants in Edenwald, Bronx:0\n",
      "( 47 / 306 ) Vegetarian Resturants in Bay Ridge, Brooklyn:1\n",
      "( 48 / 306 ) Vegetarian Resturants in Bensonhurst, Brooklyn:0\n",
      "( 49 / 306 ) Vegetarian Resturants in Sunset Park, Brooklyn:1\n",
      "( 50 / 306 ) Vegetarian Resturants in Greenpoint, Brooklyn:0\n",
      "( 51 / 306 ) Vegetarian Resturants in Gravesend, Brooklyn:0\n",
      "( 52 / 306 ) Vegetarian Resturants in Brighton Beach, Brooklyn:0\n",
      "( 53 / 306 ) Vegetarian Resturants in Sheepshead Bay, Brooklyn:0\n",
      "( 54 / 306 ) Vegetarian Resturants in Manhattan Terrace, Brooklyn:0\n",
      "( 55 / 306 ) Vegetarian Resturants in Flatbush, Brooklyn:0\n",
      "( 56 / 306 ) Vegetarian Resturants in Crown Heights, Brooklyn:2\n",
      "( 57 / 306 ) Vegetarian Resturants in East Flatbush, Brooklyn:0\n",
      "( 58 / 306 ) Vegetarian Resturants in Kensington, Brooklyn:0\n",
      "( 59 / 306 ) Vegetarian Resturants in Windsor Terrace, Brooklyn:0\n",
      "( 60 / 306 ) Vegetarian Resturants in Prospect Heights, Brooklyn:1\n",
      "( 61 / 306 ) Vegetarian Resturants in Brownsville, Brooklyn:0\n",
      "( 62 / 306 ) Vegetarian Resturants in Williamsburg, Brooklyn:1\n",
      "( 63 / 306 ) Vegetarian Resturants in Bushwick, Brooklyn:1\n",
      "( 64 / 306 ) Vegetarian Resturants in Bedford Stuyvesant, Brooklyn:0\n",
      "( 65 / 306 ) Vegetarian Resturants in Brooklyn Heights, Brooklyn:0\n",
      "( 66 / 306 ) Vegetarian Resturants in Cobble Hill, Brooklyn:0\n",
      "( 67 / 306 ) Vegetarian Resturants in Carroll Gardens, Brooklyn:0\n",
      "( 68 / 306 ) Vegetarian Resturants in Red Hook, Brooklyn:0\n",
      "( 69 / 306 ) Vegetarian Resturants in Gowanus, Brooklyn:0\n",
      "( 70 / 306 ) Vegetarian Resturants in Fort Greene, Brooklyn:1\n",
      "( 71 / 306 ) Vegetarian Resturants in Park Slope, Brooklyn:0\n",
      "( 72 / 306 ) Vegetarian Resturants in Cypress Hills, Brooklyn:0\n",
      "( 73 / 306 ) Vegetarian Resturants in East New York, Brooklyn:0\n",
      "( 74 / 306 ) Vegetarian Resturants in Starrett City, Brooklyn:0\n",
      "( 75 / 306 ) Vegetarian Resturants in Canarsie, Brooklyn:0\n",
      "( 76 / 306 ) Vegetarian Resturants in Flatlands, Brooklyn:0\n",
      "( 77 / 306 ) Vegetarian Resturants in Mill Island, Brooklyn:0\n",
      "( 78 / 306 ) Vegetarian Resturants in Manhattan Beach, Brooklyn:0\n",
      "( 79 / 306 ) Vegetarian Resturants in Coney Island, Brooklyn:0\n",
      "( 80 / 306 ) Vegetarian Resturants in Bath Beach, Brooklyn:0\n",
      "( 81 / 306 ) Vegetarian Resturants in Borough Park, Brooklyn:0\n",
      "( 82 / 306 ) Vegetarian Resturants in Dyker Heights, Brooklyn:0\n",
      "( 83 / 306 ) Vegetarian Resturants in Gerritsen Beach, Brooklyn:0\n",
      "( 84 / 306 ) Vegetarian Resturants in Marine Park, Brooklyn:0\n",
      "( 85 / 306 ) Vegetarian Resturants in Clinton Hill, Brooklyn:1\n",
      "( 86 / 306 ) Vegetarian Resturants in Sea Gate, Brooklyn:0\n",
      "( 87 / 306 ) Vegetarian Resturants in Downtown, Brooklyn:0\n",
      "( 88 / 306 ) Vegetarian Resturants in Boerum Hill, Brooklyn:0\n",
      "( 89 / 306 ) Vegetarian Resturants in Prospect Lefferts Gardens, Brooklyn:1\n",
      "( 90 / 306 ) Vegetarian Resturants in Ocean Hill, Brooklyn:0\n",
      "( 91 / 306 ) Vegetarian Resturants in City Line, Brooklyn:0\n",
      "( 92 / 306 ) Vegetarian Resturants in Bergen Beach, Brooklyn:0\n",
      "( 93 / 306 ) Vegetarian Resturants in Midwood, Brooklyn:0\n",
      "( 94 / 306 ) Vegetarian Resturants in Prospect Park South, Brooklyn:1\n",
      "( 95 / 306 ) Vegetarian Resturants in Georgetown, Brooklyn:0\n",
      "( 96 / 306 ) Vegetarian Resturants in East Williamsburg, Brooklyn:3\n",
      "( 97 / 306 ) Vegetarian Resturants in North Side, Brooklyn:1\n",
      "( 98 / 306 ) Vegetarian Resturants in South Side, Brooklyn:2\n",
      "( 99 / 306 ) Vegetarian Resturants in Ocean Parkway, Brooklyn:0\n",
      "( 100 / 306 ) Vegetarian Resturants in Fort Hamilton, Brooklyn:0\n",
      "( 101 / 306 ) Vegetarian Resturants in Chinatown, Manhattan:1\n",
      "( 102 / 306 ) Vegetarian Resturants in Washington Heights, Manhattan:0\n",
      "( 103 / 306 ) Vegetarian Resturants in Inwood, Manhattan:0\n",
      "( 104 / 306 ) Vegetarian Resturants in Hamilton Heights, Manhattan:0\n",
      "( 105 / 306 ) Vegetarian Resturants in Manhattanville, Manhattan:0\n",
      "( 106 / 306 ) Vegetarian Resturants in Central Harlem, Manhattan:0\n",
      "( 107 / 306 ) Vegetarian Resturants in East Harlem, Manhattan:0\n",
      "( 108 / 306 ) Vegetarian Resturants in Upper East Side, Manhattan:1\n",
      "( 109 / 306 ) Vegetarian Resturants in Yorkville, Manhattan:0\n",
      "( 110 / 306 ) Vegetarian Resturants in Lenox Hill, Manhattan:2\n",
      "( 111 / 306 ) Vegetarian Resturants in Roosevelt Island, Manhattan:1\n",
      "( 112 / 306 ) Vegetarian Resturants in Upper West Side, Manhattan:2\n",
      "( 113 / 306 ) Vegetarian Resturants in Lincoln Square, Manhattan:0\n",
      "( 114 / 306 ) Vegetarian Resturants in Clinton, Manhattan:0\n",
      "( 115 / 306 ) Vegetarian Resturants in Midtown, Manhattan:1\n",
      "( 116 / 306 ) Vegetarian Resturants in Murray Hill, Manhattan:1\n",
      "( 117 / 306 ) Vegetarian Resturants in Chelsea, Manhattan:0\n",
      "( 118 / 306 ) Vegetarian Resturants in Greenwich Village, Manhattan:1\n",
      "( 119 / 306 ) Vegetarian Resturants in East Village, Manhattan:2\n",
      "( 120 / 306 ) Vegetarian Resturants in Lower East Side, Manhattan:0\n",
      "( 121 / 306 ) Vegetarian Resturants in Tribeca, Manhattan:1\n",
      "( 122 / 306 ) Vegetarian Resturants in Little Italy, Manhattan:1\n",
      "( 123 / 306 ) Vegetarian Resturants in Soho, Manhattan:1\n",
      "( 124 / 306 ) Vegetarian Resturants in West Village, Manhattan:1\n",
      "( 125 / 306 ) Vegetarian Resturants in Manhattan Valley, Manhattan:0\n",
      "( 126 / 306 ) Vegetarian Resturants in Morningside Heights, Manhattan:0\n",
      "( 127 / 306 ) Vegetarian Resturants in Gramercy, Manhattan:2\n",
      "( 128 / 306 ) Vegetarian Resturants in Battery Park City, Manhattan:1\n",
      "( 129 / 306 ) Vegetarian Resturants in Financial District, Manhattan:0\n",
      "( 130 / 306 ) Vegetarian Resturants in Astoria, Queens:0\n",
      "( 131 / 306 ) Vegetarian Resturants in Woodside, Queens:1\n",
      "( 132 / 306 ) Vegetarian Resturants in Jackson Heights, Queens:1\n",
      "( 133 / 306 ) Vegetarian Resturants in Elmhurst, Queens:0\n",
      "( 134 / 306 ) Vegetarian Resturants in Howard Beach, Queens:0\n",
      "( 135 / 306 ) Vegetarian Resturants in Corona, Queens:0\n",
      "( 136 / 306 ) Vegetarian Resturants in Forest Hills, Queens:0\n",
      "( 137 / 306 ) Vegetarian Resturants in Kew Gardens, Queens:0\n",
      "( 138 / 306 ) Vegetarian Resturants in Richmond Hill, Queens:0\n",
      "( 139 / 306 ) Vegetarian Resturants in Flushing, Queens:0\n",
      "( 140 / 306 ) Vegetarian Resturants in Long Island City, Queens:0\n",
      "( 141 / 306 ) Vegetarian Resturants in Sunnyside, Queens:0\n",
      "( 142 / 306 ) Vegetarian Resturants in East Elmhurst, Queens:0\n",
      "( 143 / 306 ) Vegetarian Resturants in Maspeth, Queens:0\n",
      "( 144 / 306 ) Vegetarian Resturants in Ridgewood, Queens:1\n",
      "( 145 / 306 ) Vegetarian Resturants in Glendale, Queens:0\n",
      "( 146 / 306 ) Vegetarian Resturants in Rego Park, Queens:0\n",
      "( 147 / 306 ) Vegetarian Resturants in Woodhaven, Queens:0\n",
      "( 148 / 306 ) Vegetarian Resturants in Ozone Park, Queens:0\n",
      "( 149 / 306 ) Vegetarian Resturants in South Ozone Park, Queens:0\n",
      "( 150 / 306 ) Vegetarian Resturants in College Point, Queens:0\n",
      "( 151 / 306 ) Vegetarian Resturants in Whitestone, Queens:0\n",
      "( 152 / 306 ) Vegetarian Resturants in Bayside, Queens:0\n",
      "( 153 / 306 ) Vegetarian Resturants in Auburndale, Queens:0\n",
      "( 154 / 306 ) Vegetarian Resturants in Little Neck, Queens:0\n",
      "( 155 / 306 ) Vegetarian Resturants in Douglaston, Queens:0\n",
      "( 156 / 306 ) Vegetarian Resturants in Glen Oaks, Queens:0\n",
      "( 157 / 306 ) Vegetarian Resturants in Bellerose, Queens:0\n",
      "( 158 / 306 ) Vegetarian Resturants in Kew Gardens Hills, Queens:1\n",
      "( 159 / 306 ) Vegetarian Resturants in Fresh Meadows, Queens:1\n",
      "( 160 / 306 ) Vegetarian Resturants in Briarwood, Queens:1\n",
      "( 161 / 306 ) Vegetarian Resturants in Jamaica Center, Queens:2\n",
      "( 162 / 306 ) Vegetarian Resturants in Oakland Gardens, Queens:0\n",
      "( 163 / 306 ) Vegetarian Resturants in Queens Village, Queens:0\n",
      "( 164 / 306 ) Vegetarian Resturants in Hollis, Queens:0\n",
      "( 165 / 306 ) Vegetarian Resturants in South Jamaica, Queens:1\n",
      "( 166 / 306 ) Vegetarian Resturants in St. Albans, Queens:0\n",
      "( 167 / 306 ) Vegetarian Resturants in Rochdale, Queens:0\n",
      "( 168 / 306 ) Vegetarian Resturants in Springfield Gardens, Queens:0\n",
      "( 169 / 306 ) Vegetarian Resturants in Cambria Heights, Queens:0\n",
      "( 170 / 306 ) Vegetarian Resturants in Rosedale, Queens:0\n",
      "( 171 / 306 ) Vegetarian Resturants in Far Rockaway, Queens:0\n",
      "( 172 / 306 ) Vegetarian Resturants in Broad Channel, Queens:0\n",
      "( 173 / 306 ) Vegetarian Resturants in Breezy Point, Queens:0\n",
      "( 174 / 306 ) Vegetarian Resturants in Steinway, Queens:0\n",
      "( 175 / 306 ) Vegetarian Resturants in Beechhurst, Queens:0\n",
      "( 176 / 306 ) Vegetarian Resturants in Bay Terrace, Queens:0\n",
      "( 177 / 306 ) Vegetarian Resturants in Edgemere, Queens:0\n",
      "( 178 / 306 ) Vegetarian Resturants in Arverne, Queens:0\n",
      "( 179 / 306 ) Vegetarian Resturants in Rockaway Beach, Queens:1\n",
      "( 180 / 306 ) Vegetarian Resturants in Neponsit, Queens:0\n",
      "( 181 / 306 ) Vegetarian Resturants in Murray Hill, Queens:0\n",
      "( 182 / 306 ) Vegetarian Resturants in Floral Park, Queens:0\n",
      "( 183 / 306 ) Vegetarian Resturants in Holliswood, Queens:0\n",
      "( 184 / 306 ) Vegetarian Resturants in Jamaica Estates, Queens:0\n",
      "( 185 / 306 ) Vegetarian Resturants in Queensboro Hill, Queens:1\n",
      "( 186 / 306 ) Vegetarian Resturants in Hillcrest, Queens:0\n",
      "( 187 / 306 ) Vegetarian Resturants in Ravenswood, Queens:0\n",
      "( 188 / 306 ) Vegetarian Resturants in Lindenwood, Queens:0\n",
      "( 189 / 306 ) Vegetarian Resturants in Laurelton, Queens:1\n",
      "( 190 / 306 ) Vegetarian Resturants in Lefrak City, Queens:0\n",
      "( 191 / 306 ) Vegetarian Resturants in Belle Harbor, Queens:0\n",
      "( 192 / 306 ) Vegetarian Resturants in Rockaway Park, Queens:0\n",
      "( 193 / 306 ) Vegetarian Resturants in Somerville, Queens:0\n",
      "( 194 / 306 ) Vegetarian Resturants in Brookville, Queens:0\n",
      "( 195 / 306 ) Vegetarian Resturants in Bellaire, Queens:0\n",
      "( 196 / 306 ) Vegetarian Resturants in North Corona, Queens:0\n",
      "( 197 / 306 ) Vegetarian Resturants in Forest Hills Gardens, Queens:0\n",
      "( 198 / 306 ) Vegetarian Resturants in St. George, Staten Island:0\n",
      "( 199 / 306 ) Vegetarian Resturants in New Brighton, Staten Island:0\n",
      "( 200 / 306 ) Vegetarian Resturants in Stapleton, Staten Island:0\n",
      "( 201 / 306 ) Vegetarian Resturants in Rosebank, Staten Island:0\n",
      "( 202 / 306 ) Vegetarian Resturants in West Brighton, Staten Island:0\n",
      "( 203 / 306 ) Vegetarian Resturants in Grymes Hill, Staten Island:0\n",
      "( 204 / 306 ) Vegetarian Resturants in Todt Hill, Staten Island:0\n",
      "( 205 / 306 ) Vegetarian Resturants in South Beach, Staten Island:0\n",
      "( 206 / 306 ) Vegetarian Resturants in Port Richmond, Staten Island:0\n",
      "( 207 / 306 ) Vegetarian Resturants in Mariner's Harbor, Staten Island:0\n",
      "( 208 / 306 ) Vegetarian Resturants in Port Ivory, Staten Island:0\n",
      "( 209 / 306 ) Vegetarian Resturants in Castleton Corners, Staten Island:0\n",
      "( 210 / 306 ) Vegetarian Resturants in New Springville, Staten Island:0\n",
      "( 211 / 306 ) Vegetarian Resturants in Travis, Staten Island:0\n",
      "( 212 / 306 ) Vegetarian Resturants in New Dorp, Staten Island:0\n",
      "( 213 / 306 ) Vegetarian Resturants in Oakwood, Staten Island:0\n",
      "( 214 / 306 ) Vegetarian Resturants in Great Kills, Staten Island:0\n",
      "( 215 / 306 ) Vegetarian Resturants in Eltingville, Staten Island:0\n",
      "( 216 / 306 ) Vegetarian Resturants in Annadale, Staten Island:0\n",
      "( 217 / 306 ) Vegetarian Resturants in Woodrow, Staten Island:0\n",
      "( 218 / 306 ) Vegetarian Resturants in Tottenville, Staten Island:0\n",
      "( 219 / 306 ) Vegetarian Resturants in Tompkinsville, Staten Island:0\n",
      "( 220 / 306 ) Vegetarian Resturants in Silver Lake, Staten Island:0\n",
      "( 221 / 306 ) Vegetarian Resturants in Sunnyside, Staten Island:0\n",
      "( 222 / 306 ) Vegetarian Resturants in Ditmas Park, Brooklyn:0\n",
      "( 223 / 306 ) Vegetarian Resturants in Wingate, Brooklyn:0\n",
      "( 224 / 306 ) Vegetarian Resturants in Rugby, Brooklyn:0\n",
      "( 225 / 306 ) Vegetarian Resturants in Park Hill, Staten Island:0\n",
      "( 226 / 306 ) Vegetarian Resturants in Westerleigh, Staten Island:0\n",
      "( 227 / 306 ) Vegetarian Resturants in Graniteville, Staten Island:0\n",
      "( 228 / 306 ) Vegetarian Resturants in Arlington, Staten Island:0\n",
      "( 229 / 306 ) Vegetarian Resturants in Arrochar, Staten Island:0\n",
      "( 230 / 306 ) Vegetarian Resturants in Grasmere, Staten Island:1\n",
      "( 231 / 306 ) Vegetarian Resturants in Old Town, Staten Island:1\n",
      "( 232 / 306 ) Vegetarian Resturants in Dongan Hills, Staten Island:0\n",
      "( 233 / 306 ) Vegetarian Resturants in Midland Beach, Staten Island:0\n",
      "( 234 / 306 ) Vegetarian Resturants in Grant City, Staten Island:0\n",
      "( 235 / 306 ) Vegetarian Resturants in New Dorp Beach, Staten Island:0\n",
      "( 236 / 306 ) Vegetarian Resturants in Bay Terrace, Staten Island:0\n",
      "( 237 / 306 ) Vegetarian Resturants in Huguenot, Staten Island:0\n",
      "( 238 / 306 ) Vegetarian Resturants in Pleasant Plains, Staten Island:0\n",
      "( 239 / 306 ) Vegetarian Resturants in Butler Manor, Staten Island:0\n",
      "( 240 / 306 ) Vegetarian Resturants in Charleston, Staten Island:0\n",
      "( 241 / 306 ) Vegetarian Resturants in Rossville, Staten Island:0\n",
      "( 242 / 306 ) Vegetarian Resturants in Arden Heights, Staten Island:0\n",
      "( 243 / 306 ) Vegetarian Resturants in Greenridge, Staten Island:0\n",
      "( 244 / 306 ) Vegetarian Resturants in Heartland Village, Staten Island:0\n",
      "( 245 / 306 ) Vegetarian Resturants in Chelsea, Staten Island:0\n",
      "( 246 / 306 ) Vegetarian Resturants in Bloomfield, Staten Island:0\n",
      "( 247 / 306 ) Vegetarian Resturants in Bulls Head, Staten Island:0\n",
      "( 248 / 306 ) Vegetarian Resturants in Carnegie Hill, Manhattan:1\n",
      "( 249 / 306 ) Vegetarian Resturants in Noho, Manhattan:0\n",
      "( 250 / 306 ) Vegetarian Resturants in Civic Center, Manhattan:1\n",
      "( 251 / 306 ) Vegetarian Resturants in Midtown South, Manhattan:0\n",
      "( 252 / 306 ) Vegetarian Resturants in Richmond Town, Staten Island:0\n",
      "( 253 / 306 ) Vegetarian Resturants in Shore Acres, Staten Island:0\n",
      "( 254 / 306 ) Vegetarian Resturants in Clifton, Staten Island:0\n",
      "( 255 / 306 ) Vegetarian Resturants in Concord, Staten Island:1\n",
      "( 256 / 306 ) Vegetarian Resturants in Emerson Hill, Staten Island:0\n",
      "( 257 / 306 ) Vegetarian Resturants in Randall Manor, Staten Island:0\n",
      "( 258 / 306 ) Vegetarian Resturants in Howland Hook, Staten Island:0\n",
      "( 259 / 306 ) Vegetarian Resturants in Elm Park, Staten Island:0\n",
      "( 260 / 306 ) Vegetarian Resturants in Remsen Village, Brooklyn:1\n",
      "( 261 / 306 ) Vegetarian Resturants in New Lots, Brooklyn:0\n",
      "( 262 / 306 ) Vegetarian Resturants in Paerdegat Basin, Brooklyn:0\n",
      "( 263 / 306 ) Vegetarian Resturants in Mill Basin, Brooklyn:0\n",
      "( 264 / 306 ) Vegetarian Resturants in Jamaica Hills, Queens:1\n",
      "( 265 / 306 ) Vegetarian Resturants in Utopia, Queens:0\n",
      "( 266 / 306 ) Vegetarian Resturants in Pomonok, Queens:1\n",
      "( 267 / 306 ) Vegetarian Resturants in Astoria Heights, Queens:0\n",
      "( 268 / 306 ) Vegetarian Resturants in Claremont Village, Bronx:0\n",
      "( 269 / 306 ) Vegetarian Resturants in Concourse Village, Bronx:0\n",
      "( 270 / 306 ) Vegetarian Resturants in Mount Eden, Bronx:0\n",
      "( 271 / 306 ) Vegetarian Resturants in Mount Hope, Bronx:0\n",
      "( 272 / 306 ) Vegetarian Resturants in Sutton Place, Manhattan:2\n",
      "( 273 / 306 ) Vegetarian Resturants in Hunters Point, Queens:0\n",
      "( 274 / 306 ) Vegetarian Resturants in Turtle Bay, Manhattan:0\n",
      "( 275 / 306 ) Vegetarian Resturants in Tudor City, Manhattan:0\n",
      "( 276 / 306 ) Vegetarian Resturants in Stuyvesant Town, Manhattan:1\n",
      "( 277 / 306 ) Vegetarian Resturants in Flatiron, Manhattan:2\n",
      "( 278 / 306 ) Vegetarian Resturants in Sunnyside Gardens, Queens:0\n",
      "( 279 / 306 ) Vegetarian Resturants in Blissville, Queens:0\n",
      "( 280 / 306 ) Vegetarian Resturants in Fulton Ferry, Brooklyn:0\n",
      "( 281 / 306 ) Vegetarian Resturants in Vinegar Hill, Brooklyn:0\n",
      "( 282 / 306 ) Vegetarian Resturants in Weeksville, Brooklyn:1\n",
      "( 283 / 306 ) Vegetarian Resturants in Broadway Junction, Brooklyn:0\n",
      "( 284 / 306 ) Vegetarian Resturants in Dumbo, Brooklyn:0\n",
      "( 285 / 306 ) Vegetarian Resturants in Manor Heights, Staten Island:0\n",
      "( 286 / 306 ) Vegetarian Resturants in Willowbrook, Staten Island:0\n",
      "( 287 / 306 ) Vegetarian Resturants in Sandy Ground, Staten Island:0\n",
      "( 288 / 306 ) Vegetarian Resturants in Egbertville, Staten Island:0\n",
      "( 289 / 306 ) Vegetarian Resturants in Roxbury, Queens:0\n",
      "( 290 / 306 ) Vegetarian Resturants in Homecrest, Brooklyn:0\n",
      "( 291 / 306 ) Vegetarian Resturants in Middle Village, Queens:0\n",
      "( 292 / 306 ) Vegetarian Resturants in Prince's Bay, Staten Island:0\n",
      "( 293 / 306 ) Vegetarian Resturants in Lighthouse Hill, Staten Island:0\n",
      "( 294 / 306 ) Vegetarian Resturants in Richmond Valley, Staten Island:0\n",
      "( 295 / 306 ) Vegetarian Resturants in Malba, Queens:1\n",
      "( 296 / 306 ) Vegetarian Resturants in Highland Park, Brooklyn:0\n",
      "( 297 / 306 ) Vegetarian Resturants in Madison, Brooklyn:0\n",
      "( 298 / 306 ) Vegetarian Resturants in Bronxdale, Bronx:0\n",
      "( 299 / 306 ) Vegetarian Resturants in Allerton, Bronx:0\n",
      "( 300 / 306 ) Vegetarian Resturants in Kingsbridge Heights, Bronx:0\n",
      "( 301 / 306 ) Vegetarian Resturants in Erasmus, Brooklyn:0\n",
      "( 302 / 306 ) Vegetarian Resturants in Hudson Yards, Manhattan:0\n",
      "( 303 / 306 ) Vegetarian Resturants in Hammels, Queens:0\n",
      "( 304 / 306 ) Vegetarian Resturants in Bayswater, Queens:0\n",
      "( 305 / 306 ) Vegetarian Resturants in Queensbridge, Queens:0\n",
      "( 306 / 306 ) Vegetarian Resturants in Fox Hills, Staten Island:0\n"
     ]
    }
   ],
   "source": [
    "# prepare neighborhood list that contains vegetarian resturants\n",
    "column_names=['Borough', 'Neighborhood', 'ID','Name']\n",
    "vegetarian_rest_ny=pd.DataFrame(columns=column_names)\n",
    "count=1\n",
    "for row in new_york_data.values.tolist():\n",
    "    Borough, Neighborhood, Latitude, Longitude=row\n",
    "    venues = get_venues(Latitude,Longitude)\n",
    "    vegetarian_resturants=venues[venues['Category']=='Vegetarian / Vegan Restaurant']   \n",
    "    print('(',count,'/',len(new_york_data),')','Vegetarian Resturants in '+Neighborhood+', '+Borough+':'+str(len(vegetarian_resturants)))\n",
    "    for resturant_detail in vegetarian_resturants.values.tolist():\n",
    "        id, name , category=resturant_detail\n",
    "        vegetarian_rest_ny = vegetarian_rest_ny.append({'Borough': Borough,\n",
    "                                                'Neighborhood': Neighborhood, \n",
    "                                                'ID': id,\n",
    "                                                'Name' : name\n",
    "                                               }, ignore_index=True)\n",
    "    count+=1"
   ]
  },
  {
   "cell_type": "markdown",
   "metadata": {},
   "source": [
    "Now that we have got all the vegetarian resturants in new york city , we will analyze it"
   ]
  },
  {
   "cell_type": "code",
   "execution_count": 9,
   "metadata": {},
   "outputs": [
    {
     "data": {
      "text/html": [
       "<div>\n",
       "<style scoped>\n",
       "    .dataframe tbody tr th:only-of-type {\n",
       "        vertical-align: middle;\n",
       "    }\n",
       "\n",
       "    .dataframe tbody tr th {\n",
       "        vertical-align: top;\n",
       "    }\n",
       "\n",
       "    .dataframe thead th {\n",
       "        text-align: right;\n",
       "    }\n",
       "</style>\n",
       "<table border=\"1\" class=\"dataframe\">\n",
       "  <thead>\n",
       "    <tr style=\"text-align: right;\">\n",
       "      <th></th>\n",
       "      <th>Borough</th>\n",
       "      <th>Neighborhood</th>\n",
       "      <th>ID</th>\n",
       "      <th>Name</th>\n",
       "    </tr>\n",
       "  </thead>\n",
       "  <tbody>\n",
       "    <tr>\n",
       "      <th>0</th>\n",
       "      <td>Brooklyn</td>\n",
       "      <td>Bay Ridge</td>\n",
       "      <td>55c159c5498e6e82b8f62043</td>\n",
       "      <td>Shangri-La Vegetarian</td>\n",
       "    </tr>\n",
       "    <tr>\n",
       "      <th>1</th>\n",
       "      <td>Brooklyn</td>\n",
       "      <td>Sunset Park</td>\n",
       "      <td>5548f518498e8f7858764111</td>\n",
       "      <td>Lucky Vegetarian</td>\n",
       "    </tr>\n",
       "    <tr>\n",
       "      <th>2</th>\n",
       "      <td>Brooklyn</td>\n",
       "      <td>Crown Heights</td>\n",
       "      <td>5aedf28bbe70780039a690e2</td>\n",
       "      <td>Greedi Vegan</td>\n",
       "    </tr>\n",
       "    <tr>\n",
       "      <th>3</th>\n",
       "      <td>Brooklyn</td>\n",
       "      <td>Crown Heights</td>\n",
       "      <td>4ba154a4f964a5204cad37e3</td>\n",
       "      <td>Ital Shak Vegetarian Restaurant</td>\n",
       "    </tr>\n",
       "    <tr>\n",
       "      <th>4</th>\n",
       "      <td>Brooklyn</td>\n",
       "      <td>Prospect Heights</td>\n",
       "      <td>4ad8d0e5f964a520f11421e3</td>\n",
       "      <td>Natural Blend</td>\n",
       "    </tr>\n",
       "  </tbody>\n",
       "</table>\n",
       "</div>"
      ],
      "text/plain": [
       "    Borough      Neighborhood                        ID  \\\n",
       "0  Brooklyn         Bay Ridge  55c159c5498e6e82b8f62043   \n",
       "1  Brooklyn       Sunset Park  5548f518498e8f7858764111   \n",
       "2  Brooklyn     Crown Heights  5aedf28bbe70780039a690e2   \n",
       "3  Brooklyn     Crown Heights  4ba154a4f964a5204cad37e3   \n",
       "4  Brooklyn  Prospect Heights  4ad8d0e5f964a520f11421e3   \n",
       "\n",
       "                              Name  \n",
       "0            Shangri-La Vegetarian  \n",
       "1                 Lucky Vegetarian  \n",
       "2                     Greedi Vegan  \n",
       "3  Ital Shak Vegetarian Restaurant  \n",
       "4                    Natural Blend  "
      ]
     },
     "execution_count": 9,
     "metadata": {},
     "output_type": "execute_result"
    }
   ],
   "source": [
    "vegetarian_rest_ny.head()"
   ]
  },
  {
   "cell_type": "code",
   "execution_count": 10,
   "metadata": {},
   "outputs": [
    {
     "data": {
      "text/plain": [
       "(63, 4)"
      ]
     },
     "execution_count": 10,
     "metadata": {},
     "output_type": "execute_result"
    }
   ],
   "source": [
    "vegetarian_rest_ny.shape"
   ]
  },
  {
   "cell_type": "markdown",
   "metadata": {},
   "source": [
    "We got 63 vegetarian Resturants across New York City"
   ]
  },
  {
   "cell_type": "code",
   "execution_count": 11,
   "metadata": {},
   "outputs": [
    {
     "data": {
      "image/png": "[encoded data removed]",
      "text/plain": [
       "<Figure size 900x500 with 1 Axes>"
      ]
     },
     "metadata": {
      "needs_background": "light"
     },
     "output_type": "display_data"
    }
   ],
   "source": [
    "plt.figure(figsize=(9,5), dpi = 100)\n",
    "# title\n",
    "plt.title('Number of Vegetarian Resturants for each Borough in New York City')\n",
    "#On x-axis\n",
    "plt.xlabel('Borough', fontsize = 15)\n",
    "#On y-axis\n",
    "plt.ylabel('No.of Vegetarian Resturants', fontsize=15)\n",
    "#giving a bar plot\n",
    "vegetarian_rest_ny.groupby('Borough')['ID'].count().plot(kind='bar')\n",
    "#legend\n",
    "plt.legend()\n",
    "#displays the plot\n",
    "plt.show()"
   ]
  },
  {
   "cell_type": "markdown",
   "metadata": {},
   "source": [
    "We see that Manhattan has the largest number of vegetarian resturants"
   ]
  },
  {
   "cell_type": "code",
   "execution_count": 17,
   "metadata": {},
   "outputs": [
    {
     "data": {
      "image/png": "[encoded data removed]",
      "text/plain": [
       "<Figure size 900x500 with 1 Axes>"
      ]
     },
     "metadata": {
      "needs_background": "light"
     },
     "output_type": "display_data"
    }
   ],
   "source": [
    "plt.figure(figsize=(9,5), dpi = 100)\n",
    "# title\n",
    "plt.title('Number of Vegetarian Resturants for each Neighborhood in New York City')\n",
    "#On x-axis\n",
    "plt.xlabel('Neighborhood', fontsize = 15)\n",
    "#On y-axis\n",
    "plt.ylabel('No.of Vegetarian Resturants', fontsize=15)\n",
    "#giving a bar plot\n",
    "vegetarian_rest_ny.groupby('Neighborhood')['ID'].count().nlargest(5).plot(kind='bar')\n",
    "#legend\n",
    "plt.legend()\n",
    "#displays the plot\n",
    "plt.show()"
   ]
  },
  {
   "cell_type": "code",
   "execution_count": 27,
   "metadata": {},
   "outputs": [
    {
     "data": {
      "text/html": [
       "<div>\n",
       "<style scoped>\n",
       "    .dataframe tbody tr th:only-of-type {\n",
       "        vertical-align: middle;\n",
       "    }\n",
       "\n",
       "    .dataframe tbody tr th {\n",
       "        vertical-align: top;\n",
       "    }\n",
       "\n",
       "    .dataframe thead th {\n",
       "        text-align: right;\n",
       "    }\n",
       "</style>\n",
       "<table border=\"1\" class=\"dataframe\">\n",
       "  <thead>\n",
       "    <tr style=\"text-align: right;\">\n",
       "      <th></th>\n",
       "      <th>Borough</th>\n",
       "      <th>Neighborhood</th>\n",
       "      <th>ID</th>\n",
       "      <th>Name</th>\n",
       "    </tr>\n",
       "  </thead>\n",
       "  <tbody>\n",
       "    <tr>\n",
       "      <th>11</th>\n",
       "      <td>Brooklyn</td>\n",
       "      <td>East Williamsburg</td>\n",
       "      <td>4a2048e8f964a520687c1fe3</td>\n",
       "      <td>Champs Diner</td>\n",
       "    </tr>\n",
       "    <tr>\n",
       "      <th>12</th>\n",
       "      <td>Brooklyn</td>\n",
       "      <td>East Williamsburg</td>\n",
       "      <td>5169bf17e4b01de80a9b04e5</td>\n",
       "      <td>Vegan Shop Up</td>\n",
       "    </tr>\n",
       "    <tr>\n",
       "      <th>13</th>\n",
       "      <td>Brooklyn</td>\n",
       "      <td>East Williamsburg</td>\n",
       "      <td>51ce0320498e6d3591ec3175</td>\n",
       "      <td>Loving Hut</td>\n",
       "    </tr>\n",
       "  </tbody>\n",
       "</table>\n",
       "</div>"
      ],
      "text/plain": [
       "     Borough       Neighborhood                        ID           Name\n",
       "11  Brooklyn  East Williamsburg  4a2048e8f964a520687c1fe3   Champs Diner\n",
       "12  Brooklyn  East Williamsburg  5169bf17e4b01de80a9b04e5  Vegan Shop Up\n",
       "13  Brooklyn  East Williamsburg  51ce0320498e6d3591ec3175     Loving Hut"
      ]
     },
     "execution_count": 27,
     "metadata": {},
     "output_type": "execute_result"
    }
   ],
   "source": [
    "vegetarian_rest_ny[vegetarian_rest_ny['Neighborhood']=='East Williamsburg']"
   ]
  },
  {
   "cell_type": "markdown",
   "metadata": {},
   "source": [
    "So East Williamsburg in Manhattan has the highest number of Vegetarian Resturants with a total count of 3.\n",
    "\n",
    "Now we will get the ranking of each resturant for further analysis."
   ]
  },
  {
   "cell_type": "markdown",
   "metadata": {},
   "source": [
    "Now we will define a function to get venue details like like count , rating , tip counts for a given venue id. This will be used for ranking."
   ]
  },
  {
   "cell_type": "code",
   "execution_count": 28,
   "metadata": {},
   "outputs": [],
   "source": [
    "def get_venue_details(venue_id):\n",
    "        \n",
    "    CLIENT_ID = 'HMGO4ODJSAIUY4TDY1J544ST25MFQP0KNUSHJG2TETXUCUHM'\n",
    "    CLIENT_SECRET = 'B5L33YNXBB3XGJUCPDJE4E2V3SD50KH1DMH3ZA25I25AXYJ0'\n",
    "    VERSION = '20180605' # Foursquare API version\n",
    "    \n",
    "    #url to fetch data from foursquare api\n",
    "    url = 'https://api.foursquare.com/v2/venues/{}?&client_id={}&client_secret={}&v={}'.format(\n",
    "            venue_id,\n",
    "            CLIENT_ID, \n",
    "            CLIENT_SECRET, \n",
    "            VERSION)\n",
    "    \n",
    "    # get all the data\n",
    "    results = requests.get(url).json()\n",
    "    venue_data=results['response']['venue']\n",
    "    venue_details=[]\n",
    "    try:\n",
    "        venue_id=venue_data['id']\n",
    "        venue_name=venue_data['name']\n",
    "        venue_likes=venue_data['likes']['count']\n",
    "        venue_rating=venue_data['rating']\n",
    "        venue_tips=venue_data['tips']['count']\n",
    "        venue_details.append([venue_id,venue_name,venue_likes,venue_rating,venue_tips])\n",
    "    except KeyError:\n",
    "        pass\n",
    "        \n",
    "    column_names=['ID','Name','Likes','Rating','Tips']\n",
    "    df = pd.DataFrame(venue_details,columns=column_names)\n",
    "    return df"
   ]
  },
  {
   "cell_type": "code",
   "execution_count": 29,
   "metadata": {
    "collapsed": true
   },
   "outputs": [
    {
     "name": "stdout",
     "output_type": "stream",
     "text": [
      "                         ID                   Name  Likes  Rating  Tips\n",
      "0  55c159c5498e6e82b8f62043  Shangri-La Vegetarian     15     7.7     6\n",
      "( 1 / 63 ) processed\n",
      "                         ID              Name  Likes  Rating  Tips\n",
      "0  5548f518498e8f7858764111  Lucky Vegetarian      7     7.4     3\n",
      "( 2 / 63 ) processed\n",
      "                         ID          Name  Likes  Rating  Tips\n",
      "0  5aedf28bbe70780039a690e2  Greedi Vegan      8     7.9     3\n",
      "( 3 / 63 ) processed\n",
      "                         ID                             Name  Likes  Rating  \\\n",
      "0  4ba154a4f964a5204cad37e3  Ital Shak Vegetarian Restaurant      4     7.1   \n",
      "\n",
      "   Tips  \n",
      "0     7  \n",
      "( 4 / 63 ) processed\n",
      "                         ID           Name  Likes  Rating  Tips\n",
      "0  4ad8d0e5f964a520f11421e3  Natural Blend     70     8.6    31\n",
      "( 5 / 63 ) processed\n",
      "                         ID                  Name  Likes  Rating  Tips\n",
      "0  57ddcea8498eec0d30b86391  Modern Love Brooklyn    134     8.6    32\n",
      "( 6 / 63 ) processed\n",
      "                         ID          Name  Likes  Rating  Tips\n",
      "0  5bb8eec1e0c0c900399d30c6  Hartbreakers     25     8.9     3\n",
      "( 7 / 63 ) processed\n",
      "                         ID                  Name  Likes  Rating  Tips\n",
      "0  583b8d56a6118c60b5cfdc4b  LuAnne's Wild Ginger     20     8.2     3\n",
      "( 8 / 63 ) processed\n",
      "                         ID                  Name  Likes  Rating  Tips\n",
      "0  583b8d56a6118c60b5cfdc4b  LuAnne's Wild Ginger     20     8.2     3\n",
      "( 9 / 63 ) processed\n",
      "                         ID                  Name  Likes  Rating  Tips\n",
      "0  4a89d100f964a520160920e3  Zen Vegetarian House     45     8.4    25\n",
      "( 10 / 63 ) processed\n",
      "                         ID                  Name  Likes  Rating  Tips\n",
      "0  4a89d100f964a520160920e3  Zen Vegetarian House     45     8.4    25\n",
      "( 11 / 63 ) processed\n",
      "                         ID          Name  Likes  Rating  Tips\n",
      "0  4a2048e8f964a520687c1fe3  Champs Diner    652     8.9   273\n",
      "( 12 / 63 ) processed\n",
      "                         ID           Name  Likes  Rating  Tips\n",
      "0  5169bf17e4b01de80a9b04e5  Vegan Shop Up     25     8.2     2\n",
      "( 13 / 63 ) processed\n",
      "                         ID        Name  Likes  Rating  Tips\n",
      "0  51ce0320498e6d3591ec3175  Loving Hut     44     7.7    21\n",
      "( 14 / 63 ) processed\n",
      "                         ID       Name  Likes  Rating  Tips\n",
      "0  58bf5a738cb34e395a372b58  by CHLOE.    133     8.4    13\n",
      "( 15 / 63 ) processed\n",
      "                         ID       Name  Likes  Rating  Tips\n",
      "0  58bf5a738cb34e395a372b58  by CHLOE.    133     8.4    13\n",
      "( 16 / 63 ) processed\n",
      "                         ID                  Name  Likes  Rating  Tips\n",
      "0  57ddcea8498eec0d30b86391  Modern Love Brooklyn    134     8.6    32\n",
      "( 17 / 63 ) processed\n",
      "                         ID            Name  Likes  Rating  Tips\n",
      "0  5d4a1a6cf7552900084427b6  Petisco Vegano     10     8.4     1\n",
      "( 18 / 63 ) processed\n",
      "                         ID         Name  Likes  Rating  Tips\n",
      "0  3fd66200f964a52088e91ee3  Candle Cafe    316     8.7   153\n",
      "( 19 / 63 ) processed\n",
      "                         ID         Name  Likes  Rating  Tips\n",
      "0  3fd66200f964a52088e91ee3  Candle Cafe    316     8.7   153\n",
      "( 20 / 63 ) processed\n",
      "                         ID          Name  Likes  Rating  Tips\n",
      "0  56a7fcb3498e6d9f0c02ca7e  Le Botaniste    179     8.9    39\n",
      "( 21 / 63 ) processed\n",
      "                         ID                          Name  Likes  Rating  Tips\n",
      "0  586779ec07ac0762ed926424  Ginger Root Vegan Restaurant     10     7.9     3\n",
      "( 22 / 63 ) processed\n",
      "                         ID            Name  Likes  Rating  Tips\n",
      "0  4a6c86acf964a520b7d01fe3  Peacefood Cafe    365     8.6   218\n",
      "( 23 / 63 ) processed\n",
      "                         ID                 Name  Likes  Rating  Tips\n",
      "0  5409e965498e51456f30cd0a  Blossom on Columbus     74     8.2    22\n",
      "( 24 / 63 ) processed\n",
      "                         ID       Name  Likes  Rating  Tips\n",
      "0  59af2bde65cdf82b4a51f617  by CHLOE.    131     8.8    23\n",
      "( 25 / 63 ) processed\n",
      "                         ID      Name  Likes  Rating  Tips\n",
      "0  4b02f734f964a520814b22e3  Franchia    359     8.6   151\n",
      "( 26 / 63 ) processed\n",
      "                         ID                     Name  Likes  Rating  Tips\n",
      "0  5d6ee29a51bb4000088e5d9e  Jajaja Plantas Mexicana     38     9.0     6\n",
      "( 27 / 63 ) processed\n",
      "                         ID        Name  Likes  Rating  Tips\n",
      "0  5c4a63b11987ec002cddaece  Spicy Moon     37     8.6    11\n",
      "( 28 / 63 ) processed\n",
      "                         ID         Name  Likes  Rating  Tips\n",
      "0  4b2fadfdf964a520e6ed24e3  B & H Dairy    246     8.7   128\n",
      "( 29 / 63 ) processed\n",
      "                         ID         Name  Likes  Rating  Tips\n",
      "0  54148bc6498ea7bb8c05b70a  Juice Press     85     9.1    12\n",
      "( 30 / 63 ) processed\n",
      "                         ID          Name  Likes  Rating  Tips\n",
      "0  59dfe90ed69ed038f9316118  Le Botaniste     87     9.0    16\n",
      "( 31 / 63 ) processed\n",
      "                         ID          Name  Likes  Rating  Tips\n",
      "0  59dfe90ed69ed038f9316118  Le Botaniste     87     9.0    16\n",
      "( 32 / 63 ) processed\n",
      "                         ID                     Name  Likes  Rating  Tips\n",
      "0  5d6ee29a51bb4000088e5d9e  Jajaja Plantas Mexicana     38     9.0     6\n",
      "( 33 / 63 ) processed\n",
      "                         ID  Name  Likes  Rating  Tips\n",
      "0  585285cbc0df765c553a2c84  abcV    413     9.1    94\n",
      "( 34 / 63 ) processed\n",
      "                         ID              Name  Likes  Rating  Tips\n",
      "0  5978cb3fa6031c0962d4ac37  Marty's V Burger     27     8.2     9\n",
      "( 35 / 63 ) processed\n",
      "                         ID         Name  Likes  Rating  Tips\n",
      "0  54148bc6498ea7bb8c05b70a  Juice Press     85     9.1    12\n",
      "( 36 / 63 ) processed\n",
      "                         ID          Name  Likes  Rating  Tips\n",
      "0  4b350ef3f964a520082a25e3  Dosa Delight     59     7.9    31\n",
      "( 37 / 63 ) processed\n",
      "                         ID          Name  Likes  Rating  Tips\n",
      "0  4b350ef3f964a520082a25e3  Dosa Delight     59     7.9    31\n",
      "( 38 / 63 ) processed\n",
      "                         ID                       Name  Likes  Rating  Tips\n",
      "0  4d600545b19fa143cf64efc8  Coco Lin Vegetarian House     15     7.1    19\n",
      "( 39 / 63 ) processed\n",
      "                         ID                        Name  Likes  Rating  Tips\n",
      "0  4b89a0b6f964a520724732e3  The Oneness-Fountain-Heart     30     8.5    19\n",
      "( 40 / 63 ) processed\n",
      "Empty DataFrame\n",
      "Columns: [ID, Name, Likes, Rating, Tips]\n",
      "Index: []\n",
      "No data available for id= 4e07ee16ae60a90eabcc6f99\n",
      "( 41 / 63 ) processed\n",
      "                         ID                 Name  Likes  Rating  Tips\n",
      "0  4be45d8acf200f471bdb113c  Smile of the Beyond     11     7.7     4\n",
      "( 42 / 63 ) processed\n",
      "                         ID                 Name  Likes  Rating  Tips\n",
      "0  4be45d8acf200f471bdb113c  Smile of the Beyond     11     7.7     4\n",
      "( 43 / 63 ) processed\n",
      "                         ID              Name  Likes  Rating  Tips\n",
      "0  5a1d83059746171f3af39409  The Nourish Spot      4     7.5     3\n",
      "( 44 / 63 ) processed\n",
      "                         ID              Name  Likes  Rating  Tips\n",
      "0  5a1d83059746171f3af39409  The Nourish Spot      4     7.5     3\n",
      "( 45 / 63 ) processed\n",
      "                         ID           Name  Likes  Rating  Tips\n",
      "0  4c03dac2310fc9b6a669c661  Island Veggie      2     6.0    10\n",
      "( 46 / 63 ) processed\n",
      "                         ID                        Name  Likes  Rating  Tips\n",
      "0  4f7f8146e4b088077de8324f  New Bodai Vegetarian 新菩提素食     36     8.0    15\n",
      "( 47 / 63 ) processed\n",
      "Empty DataFrame\n",
      "Columns: [ID, Name, Likes, Rating, Tips]\n",
      "Index: []\n",
      "No data available for id= 4ede9c2a4901ab1d4e6059df\n",
      "( 48 / 63 ) processed\n",
      "                         ID              Name  Likes  Rating  Tips\n",
      "0  4bec2884a9900f4702a31840  Fuel Health Cafe      5     7.2     4\n",
      "( 49 / 63 ) processed\n",
      "                         ID              Name  Likes  Rating  Tips\n",
      "0  4bec2884a9900f4702a31840  Fuel Health Cafe      5     7.2     4\n",
      "( 50 / 63 ) processed\n",
      "                         ID         Name  Likes  Rating  Tips\n",
      "0  51e4981b498e7d2264d8eff2  juice press     36     8.1     9\n",
      "( 51 / 63 ) processed\n",
      "                         ID         Name  Likes  Rating  Tips\n",
      "0  54148bc6498ea7bb8c05b70a  Juice Press     85     9.1    12\n",
      "( 52 / 63 ) processed\n",
      "                         ID              Name  Likes  Rating  Tips\n",
      "0  4bec2884a9900f4702a31840  Fuel Health Cafe      5     7.2     4\n",
      "( 53 / 63 ) processed\n",
      "Empty DataFrame\n",
      "Columns: [ID, Name, Likes, Rating, Tips]\n",
      "Index: []\n",
      "No data available for id= 4e75e24952b1c8e519a371ce\n",
      "( 54 / 63 ) processed\n",
      "                         ID                 Name  Likes  Rating  Tips\n",
      "0  4be45d8acf200f471bdb113c  Smile of the Beyond     11     7.7     4\n",
      "( 55 / 63 ) processed\n",
      "                         ID                        Name  Likes  Rating  Tips\n",
      "0  4b89a0b6f964a520724732e3  The Oneness-Fountain-Heart     30     8.5    19\n",
      "( 56 / 63 ) processed\n",
      "                         ID         Name  Likes  Rating  Tips\n",
      "0  4e6248d7b993678bb6576508  juice press    161     8.2    41\n",
      "( 57 / 63 ) processed\n",
      "                         ID          Name  Likes  Rating  Tips\n",
      "0  56a7fcb3498e6d9f0c02ca7e  Le Botaniste    179     8.9    39\n",
      "( 58 / 63 ) processed\n",
      "                         ID                Name  Likes  Rating  Tips\n",
      "0  549c6881498eaaf3954382f3  Superiority Burger    495     8.6   149\n",
      "( 59 / 63 ) processed\n",
      "                         ID  Name  Likes  Rating  Tips\n",
      "0  585285cbc0df765c553a2c84  abcV    413     9.1    94\n",
      "( 60 / 63 ) processed\n",
      "                         ID      Name  Likes  Rating  Tips\n",
      "0  576bd714498e6b2020b3afb9  by CHLOE    555     8.9   153\n",
      "( 61 / 63 ) processed\n",
      "                         ID      Name  Likes  Rating  Tips\n",
      "0  4d4480681911a09332ded8d8  Italfari      8     7.3     7\n",
      "( 62 / 63 ) processed\n",
      "Empty DataFrame\n",
      "Columns: [ID, Name, Likes, Rating, Tips]\n",
      "Index: []\n",
      "No data available for id= 57a22d36498e861f29dc6e1d\n",
      "( 63 / 63 ) processed\n"
     ]
    }
   ],
   "source": [
    "# prepare neighborhood list that contains vegetarian resturants\n",
    "column_names=['Borough', 'Neighborhood', 'ID','Name','Likes','Rating','Tips']\n",
    "vegetarian_rest_stats_ny=pd.DataFrame(columns=column_names)\n",
    "count=1\n",
    "\n",
    "\n",
    "for row in vegetarian_rest_ny.values.tolist():\n",
    "    Borough,Neighborhood,ID,Name=row\n",
    "    try:\n",
    "        venue_details=get_venue_details(ID)\n",
    "        print(venue_details)\n",
    "        id,name,likes,rating,tips=venue_details.values.tolist()[0]\n",
    "    except IndexError:\n",
    "        print('No data available for id=',ID)\n",
    "        # we will assign 0 value for these resturants as they may have been \n",
    "        #recently opened or details does not exist in FourSquare Database\n",
    "        id,name,likes,rating,tips=[0]*5\n",
    "    print('(',count,'/',len(vegetarian_rest_ny),')','processed')\n",
    "    vegetarian_rest_stats_ny = vegetarian_rest_stats_ny.append({'Borough': Borough,\n",
    "                                                'Neighborhood': Neighborhood, \n",
    "                                                'ID': id,\n",
    "                                                'Name' : name,\n",
    "                                                'Likes' : likes,\n",
    "                                                'Rating' : rating,\n",
    "                                                'Tips' : tips\n",
    "                                               }, ignore_index=True)\n",
    "    count+=1"
   ]
  },
  {
   "cell_type": "code",
   "execution_count": 30,
   "metadata": {},
   "outputs": [
    {
     "data": {
      "text/html": [
       "<div>\n",
       "<style scoped>\n",
       "    .dataframe tbody tr th:only-of-type {\n",
       "        vertical-align: middle;\n",
       "    }\n",
       "\n",
       "    .dataframe tbody tr th {\n",
       "        vertical-align: top;\n",
       "    }\n",
       "\n",
       "    .dataframe thead th {\n",
       "        text-align: right;\n",
       "    }\n",
       "</style>\n",
       "<table border=\"1\" class=\"dataframe\">\n",
       "  <thead>\n",
       "    <tr style=\"text-align: right;\">\n",
       "      <th></th>\n",
       "      <th>Borough</th>\n",
       "      <th>Neighborhood</th>\n",
       "      <th>ID</th>\n",
       "      <th>Name</th>\n",
       "      <th>Likes</th>\n",
       "      <th>Rating</th>\n",
       "      <th>Tips</th>\n",
       "    </tr>\n",
       "  </thead>\n",
       "  <tbody>\n",
       "    <tr>\n",
       "      <th>0</th>\n",
       "      <td>Brooklyn</td>\n",
       "      <td>Bay Ridge</td>\n",
       "      <td>55c159c5498e6e82b8f62043</td>\n",
       "      <td>Shangri-La Vegetarian</td>\n",
       "      <td>15</td>\n",
       "      <td>7.7</td>\n",
       "      <td>6</td>\n",
       "    </tr>\n",
       "    <tr>\n",
       "      <th>1</th>\n",
       "      <td>Brooklyn</td>\n",
       "      <td>Sunset Park</td>\n",
       "      <td>5548f518498e8f7858764111</td>\n",
       "      <td>Lucky Vegetarian</td>\n",
       "      <td>7</td>\n",
       "      <td>7.4</td>\n",
       "      <td>3</td>\n",
       "    </tr>\n",
       "    <tr>\n",
       "      <th>2</th>\n",
       "      <td>Brooklyn</td>\n",
       "      <td>Crown Heights</td>\n",
       "      <td>5aedf28bbe70780039a690e2</td>\n",
       "      <td>Greedi Vegan</td>\n",
       "      <td>8</td>\n",
       "      <td>7.9</td>\n",
       "      <td>3</td>\n",
       "    </tr>\n",
       "    <tr>\n",
       "      <th>3</th>\n",
       "      <td>Brooklyn</td>\n",
       "      <td>Crown Heights</td>\n",
       "      <td>4ba154a4f964a5204cad37e3</td>\n",
       "      <td>Ital Shak Vegetarian Restaurant</td>\n",
       "      <td>4</td>\n",
       "      <td>7.1</td>\n",
       "      <td>7</td>\n",
       "    </tr>\n",
       "    <tr>\n",
       "      <th>4</th>\n",
       "      <td>Brooklyn</td>\n",
       "      <td>Prospect Heights</td>\n",
       "      <td>4ad8d0e5f964a520f11421e3</td>\n",
       "      <td>Natural Blend</td>\n",
       "      <td>70</td>\n",
       "      <td>8.6</td>\n",
       "      <td>31</td>\n",
       "    </tr>\n",
       "  </tbody>\n",
       "</table>\n",
       "</div>"
      ],
      "text/plain": [
       "    Borough      Neighborhood                        ID  \\\n",
       "0  Brooklyn         Bay Ridge  55c159c5498e6e82b8f62043   \n",
       "1  Brooklyn       Sunset Park  5548f518498e8f7858764111   \n",
       "2  Brooklyn     Crown Heights  5aedf28bbe70780039a690e2   \n",
       "3  Brooklyn     Crown Heights  4ba154a4f964a5204cad37e3   \n",
       "4  Brooklyn  Prospect Heights  4ad8d0e5f964a520f11421e3   \n",
       "\n",
       "                              Name Likes  Rating Tips  \n",
       "0            Shangri-La Vegetarian    15     7.7    6  \n",
       "1                 Lucky Vegetarian     7     7.4    3  \n",
       "2                     Greedi Vegan     8     7.9    3  \n",
       "3  Ital Shak Vegetarian Restaurant     4     7.1    7  \n",
       "4                    Natural Blend    70     8.6   31  "
      ]
     },
     "execution_count": 30,
     "metadata": {},
     "output_type": "execute_result"
    }
   ],
   "source": [
    "vegetarian_rest_stats_ny.head()"
   ]
  },
  {
   "cell_type": "code",
   "execution_count": 31,
   "metadata": {},
   "outputs": [
    {
     "data": {
      "text/plain": [
       "(63, 7)"
      ]
     },
     "execution_count": 31,
     "metadata": {},
     "output_type": "execute_result"
    }
   ],
   "source": [
    "vegetarian_rest_stats_ny.shape"
   ]
  },
  {
   "cell_type": "code",
   "execution_count": 32,
   "metadata": {},
   "outputs": [
    {
     "data": {
      "text/plain": [
       "(63, 4)"
      ]
     },
     "execution_count": 32,
     "metadata": {},
     "output_type": "execute_result"
    }
   ],
   "source": [
    "vegetarian_rest_ny.shape"
   ]
  },
  {
   "cell_type": "markdown",
   "metadata": {},
   "source": [
    "So we got data for all resturants Now lets save this data to a csv sheet. In case we by mistake modify it. As the number of calls to get details for venue are premium call and have limit of 500 per day, we will refer to saved data sheet csv if required"
   ]
  },
  {
   "cell_type": "code",
   "execution_count": 33,
   "metadata": {},
   "outputs": [],
   "source": [
    "vegetarian_rest_stats_ny.to_csv('vegetarian_rest_stats_ny.csv', index=False)"
   ]
  },
  {
   "cell_type": "markdown",
   "metadata": {},
   "source": [
    "Lets verify the data from saved csv file"
   ]
  },
  {
   "cell_type": "code",
   "execution_count": 145,
   "metadata": {},
   "outputs": [],
   "source": [
    "vegetarian_rest_stats_ny_csv=pd.read_csv('vegetarian_rest_stats_ny.csv')"
   ]
  },
  {
   "cell_type": "code",
   "execution_count": 146,
   "metadata": {},
   "outputs": [
    {
     "data": {
      "text/plain": [
       "(63, 7)"
      ]
     },
     "execution_count": 146,
     "metadata": {},
     "output_type": "execute_result"
    }
   ],
   "source": [
    "vegetarian_rest_stats_ny_csv.shape"
   ]
  },
  {
   "cell_type": "code",
   "execution_count": 147,
   "metadata": {},
   "outputs": [
    {
     "data": {
      "text/html": [
       "<div>\n",
       "<style scoped>\n",
       "    .dataframe tbody tr th:only-of-type {\n",
       "        vertical-align: middle;\n",
       "    }\n",
       "\n",
       "    .dataframe tbody tr th {\n",
       "        vertical-align: top;\n",
       "    }\n",
       "\n",
       "    .dataframe thead th {\n",
       "        text-align: right;\n",
       "    }\n",
       "</style>\n",
       "<table border=\"1\" class=\"dataframe\">\n",
       "  <thead>\n",
       "    <tr style=\"text-align: right;\">\n",
       "      <th></th>\n",
       "      <th>Borough</th>\n",
       "      <th>Neighborhood</th>\n",
       "      <th>ID</th>\n",
       "      <th>Name</th>\n",
       "      <th>Likes</th>\n",
       "      <th>Rating</th>\n",
       "      <th>Tips</th>\n",
       "    </tr>\n",
       "  </thead>\n",
       "  <tbody>\n",
       "    <tr>\n",
       "      <th>0</th>\n",
       "      <td>Brooklyn</td>\n",
       "      <td>Bay Ridge</td>\n",
       "      <td>55c159c5498e6e82b8f62043</td>\n",
       "      <td>Shangri-La Vegetarian</td>\n",
       "      <td>15</td>\n",
       "      <td>7.7</td>\n",
       "      <td>6</td>\n",
       "    </tr>\n",
       "    <tr>\n",
       "      <th>1</th>\n",
       "      <td>Brooklyn</td>\n",
       "      <td>Sunset Park</td>\n",
       "      <td>5548f518498e8f7858764111</td>\n",
       "      <td>Lucky Vegetarian</td>\n",
       "      <td>7</td>\n",
       "      <td>7.4</td>\n",
       "      <td>3</td>\n",
       "    </tr>\n",
       "    <tr>\n",
       "      <th>2</th>\n",
       "      <td>Brooklyn</td>\n",
       "      <td>Crown Heights</td>\n",
       "      <td>5aedf28bbe70780039a690e2</td>\n",
       "      <td>Greedi Vegan</td>\n",
       "      <td>8</td>\n",
       "      <td>7.9</td>\n",
       "      <td>3</td>\n",
       "    </tr>\n",
       "    <tr>\n",
       "      <th>3</th>\n",
       "      <td>Brooklyn</td>\n",
       "      <td>Crown Heights</td>\n",
       "      <td>4ba154a4f964a5204cad37e3</td>\n",
       "      <td>Ital Shak Vegetarian Restaurant</td>\n",
       "      <td>4</td>\n",
       "      <td>7.1</td>\n",
       "      <td>7</td>\n",
       "    </tr>\n",
       "    <tr>\n",
       "      <th>4</th>\n",
       "      <td>Brooklyn</td>\n",
       "      <td>Prospect Heights</td>\n",
       "      <td>4ad8d0e5f964a520f11421e3</td>\n",
       "      <td>Natural Blend</td>\n",
       "      <td>70</td>\n",
       "      <td>8.6</td>\n",
       "      <td>31</td>\n",
       "    </tr>\n",
       "  </tbody>\n",
       "</table>\n",
       "</div>"
      ],
      "text/plain": [
       "    Borough      Neighborhood                        ID  \\\n",
       "0  Brooklyn         Bay Ridge  55c159c5498e6e82b8f62043   \n",
       "1  Brooklyn       Sunset Park  5548f518498e8f7858764111   \n",
       "2  Brooklyn     Crown Heights  5aedf28bbe70780039a690e2   \n",
       "3  Brooklyn     Crown Heights  4ba154a4f964a5204cad37e3   \n",
       "4  Brooklyn  Prospect Heights  4ad8d0e5f964a520f11421e3   \n",
       "\n",
       "                              Name  Likes  Rating  Tips  \n",
       "0            Shangri-La Vegetarian     15     7.7     6  \n",
       "1                 Lucky Vegetarian      7     7.4     3  \n",
       "2                     Greedi Vegan      8     7.9     3  \n",
       "3  Ital Shak Vegetarian Restaurant      4     7.1     7  \n",
       "4                    Natural Blend     70     8.6    31  "
      ]
     },
     "execution_count": 147,
     "metadata": {},
     "output_type": "execute_result"
    }
   ],
   "source": [
    "vegetarian_rest_stats_ny_csv.head()"
   ]
  },
  {
   "cell_type": "code",
   "execution_count": 148,
   "metadata": {},
   "outputs": [
    {
     "name": "stdout",
     "output_type": "stream",
     "text": [
      "<class 'pandas.core.frame.DataFrame'>\n",
      "RangeIndex: 63 entries, 0 to 62\n",
      "Data columns (total 7 columns):\n",
      "Borough         63 non-null object\n",
      "Neighborhood    63 non-null object\n",
      "ID              63 non-null object\n",
      "Name            63 non-null object\n",
      "Likes           63 non-null float64\n",
      "Rating          63 non-null float64\n",
      "Tips            63 non-null float64\n",
      "dtypes: float64(3), object(4)\n",
      "memory usage: 3.5+ KB\n"
     ]
    }
   ],
   "source": [
    "vegetarian_rest_stats_ny.info()"
   ]
  },
  {
   "cell_type": "markdown",
   "metadata": {},
   "source": [
    "We see that values like Likes, Tips are strig values. We would need to convert them into float for further analysis"
   ]
  },
  {
   "cell_type": "code",
   "execution_count": 149,
   "metadata": {},
   "outputs": [],
   "source": [
    "vegetarian_rest_stats_ny['Likes']=vegetarian_rest_stats_ny['Likes'].astype('float64')"
   ]
  },
  {
   "cell_type": "code",
   "execution_count": 150,
   "metadata": {},
   "outputs": [],
   "source": [
    "vegetarian_rest_stats_ny['Tips']=vegetarian_rest_stats_ny['Tips'].astype('float64')"
   ]
  },
  {
   "cell_type": "code",
   "execution_count": 151,
   "metadata": {},
   "outputs": [
    {
     "name": "stdout",
     "output_type": "stream",
     "text": [
      "<class 'pandas.core.frame.DataFrame'>\n",
      "RangeIndex: 63 entries, 0 to 62\n",
      "Data columns (total 7 columns):\n",
      "Borough         63 non-null object\n",
      "Neighborhood    63 non-null object\n",
      "ID              63 non-null object\n",
      "Name            63 non-null object\n",
      "Likes           63 non-null float64\n",
      "Rating          63 non-null float64\n",
      "Tips            63 non-null float64\n",
      "dtypes: float64(3), object(4)\n",
      "memory usage: 3.5+ KB\n"
     ]
    }
   ],
   "source": [
    "vegetarian_rest_stats_ny.info()"
   ]
  },
  {
   "cell_type": "markdown",
   "metadata": {},
   "source": [
    "Now the data types looks correct"
   ]
  },
  {
   "cell_type": "code",
   "execution_count": 152,
   "metadata": {
    "scrolled": true
   },
   "outputs": [
    {
     "data": {
      "text/plain": [
       "Borough                         Brooklyn\n",
       "Neighborhood           East Williamsburg\n",
       "ID              4a2048e8f964a520687c1fe3\n",
       "Name                        Champs Diner\n",
       "Likes                                652\n",
       "Rating                               8.9\n",
       "Tips                                 273\n",
       "Name: 11, dtype: object"
      ]
     },
     "execution_count": 152,
     "metadata": {},
     "output_type": "execute_result"
    }
   ],
   "source": [
    "# Resturant with maximum Likes\n",
    "vegetarian_rest_stats_ny.iloc[vegetarian_rest_stats_ny['Likes'].idxmax()]"
   ]
  },
  {
   "cell_type": "code",
   "execution_count": 153,
   "metadata": {},
   "outputs": [
    {
     "data": {
      "text/plain": [
       "Borough                        Manhattan\n",
       "Neighborhood                     Tribeca\n",
       "ID              54148bc6498ea7bb8c05b70a\n",
       "Name                         Juice Press\n",
       "Likes                                 85\n",
       "Rating                               9.1\n",
       "Tips                                  12\n",
       "Name: 29, dtype: object"
      ]
     },
     "execution_count": 153,
     "metadata": {},
     "output_type": "execute_result"
    }
   ],
   "source": [
    "# Resturant with maximum Rating\n",
    "vegetarian_rest_stats_ny.iloc[vegetarian_rest_stats_ny['Rating'].idxmax()]"
   ]
  },
  {
   "cell_type": "code",
   "execution_count": 154,
   "metadata": {},
   "outputs": [
    {
     "data": {
      "text/plain": [
       "Borough                         Brooklyn\n",
       "Neighborhood           East Williamsburg\n",
       "ID              4a2048e8f964a520687c1fe3\n",
       "Name                        Champs Diner\n",
       "Likes                                652\n",
       "Rating                               8.9\n",
       "Tips                                 273\n",
       "Name: 11, dtype: object"
      ]
     },
     "execution_count": 154,
     "metadata": {},
     "output_type": "execute_result"
    }
   ],
   "source": [
    "# Resturant with maximum Tips\n",
    "vegetarian_rest_stats_ny.iloc[vegetarian_rest_stats_ny['Tips'].idxmax()]"
   ]
  },
  {
   "cell_type": "markdown",
   "metadata": {},
   "source": [
    "Now lets visualize neighborhood with maximum average rating of resturants"
   ]
  },
  {
   "cell_type": "code",
   "execution_count": 155,
   "metadata": {},
   "outputs": [],
   "source": [
    "ny_neighborhood_stats=vegetarian_rest_stats_ny.groupby('Neighborhood',as_index=False).mean()[['Neighborhood','Rating']]\n",
    "ny_neighborhood_stats.columns=['Neighborhood','Average Rating']"
   ]
  },
  {
   "cell_type": "code",
   "execution_count": 156,
   "metadata": {},
   "outputs": [
    {
     "data": {
      "text/html": [
       "<div>\n",
       "<style scoped>\n",
       "    .dataframe tbody tr th:only-of-type {\n",
       "        vertical-align: middle;\n",
       "    }\n",
       "\n",
       "    .dataframe tbody tr th {\n",
       "        vertical-align: top;\n",
       "    }\n",
       "\n",
       "    .dataframe thead th {\n",
       "        text-align: right;\n",
       "    }\n",
       "</style>\n",
       "<table border=\"1\" class=\"dataframe\">\n",
       "  <thead>\n",
       "    <tr style=\"text-align: right;\">\n",
       "      <th></th>\n",
       "      <th>Neighborhood</th>\n",
       "      <th>Average Rating</th>\n",
       "    </tr>\n",
       "  </thead>\n",
       "  <tbody>\n",
       "    <tr>\n",
       "      <th>0</th>\n",
       "      <td>Battery Park City</td>\n",
       "      <td>9.1</td>\n",
       "    </tr>\n",
       "    <tr>\n",
       "      <th>45</th>\n",
       "      <td>Tribeca</td>\n",
       "      <td>9.1</td>\n",
       "    </tr>\n",
       "    <tr>\n",
       "      <th>6</th>\n",
       "      <td>Civic Center</td>\n",
       "      <td>9.1</td>\n",
       "    </tr>\n",
       "    <tr>\n",
       "      <th>12</th>\n",
       "      <td>Flatiron</td>\n",
       "      <td>9.0</td>\n",
       "    </tr>\n",
       "    <tr>\n",
       "      <th>49</th>\n",
       "      <td>West Village</td>\n",
       "      <td>9.0</td>\n",
       "    </tr>\n",
       "    <tr>\n",
       "      <th>39</th>\n",
       "      <td>Soho</td>\n",
       "      <td>9.0</td>\n",
       "    </tr>\n",
       "    <tr>\n",
       "      <th>24</th>\n",
       "      <td>Little Italy</td>\n",
       "      <td>9.0</td>\n",
       "    </tr>\n",
       "    <tr>\n",
       "      <th>17</th>\n",
       "      <td>Greenwich Village</td>\n",
       "      <td>9.0</td>\n",
       "    </tr>\n",
       "    <tr>\n",
       "      <th>3</th>\n",
       "      <td>Bushwick</td>\n",
       "      <td>8.9</td>\n",
       "    </tr>\n",
       "    <tr>\n",
       "      <th>23</th>\n",
       "      <td>Lenox Hill</td>\n",
       "      <td>8.8</td>\n",
       "    </tr>\n",
       "  </tbody>\n",
       "</table>\n",
       "</div>"
      ],
      "text/plain": [
       "         Neighborhood  Average Rating\n",
       "0   Battery Park City             9.1\n",
       "45            Tribeca             9.1\n",
       "6        Civic Center             9.1\n",
       "12           Flatiron             9.0\n",
       "49       West Village             9.0\n",
       "39               Soho             9.0\n",
       "24       Little Italy             9.0\n",
       "17  Greenwich Village             9.0\n",
       "3            Bushwick             8.9\n",
       "23         Lenox Hill             8.8"
      ]
     },
     "execution_count": 156,
     "metadata": {},
     "output_type": "execute_result"
    }
   ],
   "source": [
    "ny_neighborhood_stats.sort_values(['Average Rating'],ascending=False).head(10)"
   ]
  },
  {
   "cell_type": "markdown",
   "metadata": {},
   "source": [
    "Above are the top neighborhoods with top average rating of Vegetarian resturants"
   ]
  },
  {
   "cell_type": "code",
   "execution_count": 157,
   "metadata": {},
   "outputs": [],
   "source": [
    "ny_borough_stats=vegetarian_rest_stats_ny.groupby('Borough',as_index=False).mean()[['Borough','Rating']]\n",
    "ny_borough_stats.columns=['Borough','Average Rating']"
   ]
  },
  {
   "cell_type": "code",
   "execution_count": 158,
   "metadata": {},
   "outputs": [
    {
     "data": {
      "text/html": [
       "<div>\n",
       "<style scoped>\n",
       "    .dataframe tbody tr th:only-of-type {\n",
       "        vertical-align: middle;\n",
       "    }\n",
       "\n",
       "    .dataframe tbody tr th {\n",
       "        vertical-align: top;\n",
       "    }\n",
       "\n",
       "    .dataframe thead th {\n",
       "        text-align: right;\n",
       "    }\n",
       "</style>\n",
       "<table border=\"1\" class=\"dataframe\">\n",
       "  <thead>\n",
       "    <tr style=\"text-align: right;\">\n",
       "      <th></th>\n",
       "      <th>Borough</th>\n",
       "      <th>Average Rating</th>\n",
       "    </tr>\n",
       "  </thead>\n",
       "  <tbody>\n",
       "    <tr>\n",
       "      <th>1</th>\n",
       "      <td>Manhattan</td>\n",
       "      <td>8.711538</td>\n",
       "    </tr>\n",
       "    <tr>\n",
       "      <th>0</th>\n",
       "      <td>Brooklyn</td>\n",
       "      <td>7.731579</td>\n",
       "    </tr>\n",
       "    <tr>\n",
       "      <th>3</th>\n",
       "      <td>Staten Island</td>\n",
       "      <td>7.200000</td>\n",
       "    </tr>\n",
       "    <tr>\n",
       "      <th>2</th>\n",
       "      <td>Queens</td>\n",
       "      <td>6.133333</td>\n",
       "    </tr>\n",
       "  </tbody>\n",
       "</table>\n",
       "</div>"
      ],
      "text/plain": [
       "         Borough  Average Rating\n",
       "1      Manhattan        8.711538\n",
       "0       Brooklyn        7.731579\n",
       "3  Staten Island        7.200000\n",
       "2         Queens        6.133333"
      ]
     },
     "execution_count": 158,
     "metadata": {},
     "output_type": "execute_result"
    }
   ],
   "source": [
    "ny_borough_stats.sort_values(['Average Rating'],ascending=False).head()"
   ]
  },
  {
   "cell_type": "markdown",
   "metadata": {},
   "source": [
    "Similarly these are the average rating of Vegetarian Resturants for each Borough\n",
    "\n",
    "Lets visualize it"
   ]
  },
  {
   "cell_type": "code",
   "execution_count": 159,
   "metadata": {},
   "outputs": [
    {
     "data": {
      "image/png": "[encoded data removed]",
      "text/plain": [
       "<Figure size 900x500 with 1 Axes>"
      ]
     },
     "metadata": {
      "needs_background": "light"
     },
     "output_type": "display_data"
    }
   ],
   "source": [
    "plt.figure(figsize=(9,5), dpi = 100)\n",
    "# title\n",
    "plt.title('Average rating of Vegetarian Resturants for each Borough')\n",
    "#On x-axis\n",
    "plt.xlabel('Borough', fontsize = 15)\n",
    "#On y-axis\n",
    "plt.ylabel('Average Rating', fontsize=15)\n",
    "#giving a bar plot\n",
    "vegetarian_rest_stats_ny.groupby('Borough').mean()['Rating'].plot(kind='bar')\n",
    "#legend\n",
    "plt.legend()\n",
    "#displays the plot\n",
    "plt.show()"
   ]
  },
  {
   "cell_type": "markdown",
   "metadata": {},
   "source": [
    "We will consider all the neighborhoods with average rating greater or equal 9.0 to visualize on map"
   ]
  },
  {
   "cell_type": "code",
   "execution_count": 160,
   "metadata": {},
   "outputs": [],
   "source": [
    "ny_neighborhood_stats=ny_neighborhood_stats[ny_neighborhood_stats['Average Rating']>=9.0]"
   ]
  },
  {
   "cell_type": "code",
   "execution_count": 161,
   "metadata": {},
   "outputs": [
    {
     "data": {
      "text/html": [
       "<div>\n",
       "<style scoped>\n",
       "    .dataframe tbody tr th:only-of-type {\n",
       "        vertical-align: middle;\n",
       "    }\n",
       "\n",
       "    .dataframe tbody tr th {\n",
       "        vertical-align: top;\n",
       "    }\n",
       "\n",
       "    .dataframe thead th {\n",
       "        text-align: right;\n",
       "    }\n",
       "</style>\n",
       "<table border=\"1\" class=\"dataframe\">\n",
       "  <thead>\n",
       "    <tr style=\"text-align: right;\">\n",
       "      <th></th>\n",
       "      <th>Neighborhood</th>\n",
       "      <th>Average Rating</th>\n",
       "    </tr>\n",
       "  </thead>\n",
       "  <tbody>\n",
       "    <tr>\n",
       "      <th>0</th>\n",
       "      <td>Battery Park City</td>\n",
       "      <td>9.1</td>\n",
       "    </tr>\n",
       "    <tr>\n",
       "      <th>6</th>\n",
       "      <td>Civic Center</td>\n",
       "      <td>9.1</td>\n",
       "    </tr>\n",
       "    <tr>\n",
       "      <th>12</th>\n",
       "      <td>Flatiron</td>\n",
       "      <td>9.0</td>\n",
       "    </tr>\n",
       "    <tr>\n",
       "      <th>17</th>\n",
       "      <td>Greenwich Village</td>\n",
       "      <td>9.0</td>\n",
       "    </tr>\n",
       "    <tr>\n",
       "      <th>24</th>\n",
       "      <td>Little Italy</td>\n",
       "      <td>9.0</td>\n",
       "    </tr>\n",
       "    <tr>\n",
       "      <th>39</th>\n",
       "      <td>Soho</td>\n",
       "      <td>9.0</td>\n",
       "    </tr>\n",
       "    <tr>\n",
       "      <th>45</th>\n",
       "      <td>Tribeca</td>\n",
       "      <td>9.1</td>\n",
       "    </tr>\n",
       "    <tr>\n",
       "      <th>49</th>\n",
       "      <td>West Village</td>\n",
       "      <td>9.0</td>\n",
       "    </tr>\n",
       "  </tbody>\n",
       "</table>\n",
       "</div>"
      ],
      "text/plain": [
       "         Neighborhood  Average Rating\n",
       "0   Battery Park City             9.1\n",
       "6        Civic Center             9.1\n",
       "12           Flatiron             9.0\n",
       "17  Greenwich Village             9.0\n",
       "24       Little Italy             9.0\n",
       "39               Soho             9.0\n",
       "45            Tribeca             9.1\n",
       "49       West Village             9.0"
      ]
     },
     "execution_count": 161,
     "metadata": {},
     "output_type": "execute_result"
    }
   ],
   "source": [
    "ny_neighborhood_stats"
   ]
  },
  {
   "cell_type": "markdown",
   "metadata": {},
   "source": [
    "We will join this dataset to original new york data to get lonitude and latitude"
   ]
  },
  {
   "cell_type": "code",
   "execution_count": 162,
   "metadata": {},
   "outputs": [
    {
     "data": {
      "text/html": [
       "<div>\n",
       "<style scoped>\n",
       "    .dataframe tbody tr th:only-of-type {\n",
       "        vertical-align: middle;\n",
       "    }\n",
       "\n",
       "    .dataframe tbody tr th {\n",
       "        vertical-align: top;\n",
       "    }\n",
       "\n",
       "    .dataframe thead th {\n",
       "        text-align: right;\n",
       "    }\n",
       "</style>\n",
       "<table border=\"1\" class=\"dataframe\">\n",
       "  <thead>\n",
       "    <tr style=\"text-align: right;\">\n",
       "      <th></th>\n",
       "      <th>Borough</th>\n",
       "      <th>Neighborhood</th>\n",
       "      <th>Latitude</th>\n",
       "      <th>Longitude</th>\n",
       "      <th>Average Rating</th>\n",
       "    </tr>\n",
       "  </thead>\n",
       "  <tbody>\n",
       "    <tr>\n",
       "      <th>0</th>\n",
       "      <td>Manhattan</td>\n",
       "      <td>Battery Park City</td>\n",
       "      <td>40.711932</td>\n",
       "      <td>-74.016869</td>\n",
       "      <td>9.1</td>\n",
       "    </tr>\n",
       "    <tr>\n",
       "      <th>1</th>\n",
       "      <td>Manhattan</td>\n",
       "      <td>Civic Center</td>\n",
       "      <td>40.715229</td>\n",
       "      <td>-74.005415</td>\n",
       "      <td>9.1</td>\n",
       "    </tr>\n",
       "    <tr>\n",
       "      <th>2</th>\n",
       "      <td>Manhattan</td>\n",
       "      <td>Flatiron</td>\n",
       "      <td>40.739673</td>\n",
       "      <td>-73.990947</td>\n",
       "      <td>9.0</td>\n",
       "    </tr>\n",
       "    <tr>\n",
       "      <th>3</th>\n",
       "      <td>Manhattan</td>\n",
       "      <td>Greenwich Village</td>\n",
       "      <td>40.726933</td>\n",
       "      <td>-73.999914</td>\n",
       "      <td>9.0</td>\n",
       "    </tr>\n",
       "    <tr>\n",
       "      <th>4</th>\n",
       "      <td>Manhattan</td>\n",
       "      <td>Little Italy</td>\n",
       "      <td>40.719324</td>\n",
       "      <td>-73.997305</td>\n",
       "      <td>9.0</td>\n",
       "    </tr>\n",
       "    <tr>\n",
       "      <th>5</th>\n",
       "      <td>Manhattan</td>\n",
       "      <td>Soho</td>\n",
       "      <td>40.722184</td>\n",
       "      <td>-74.000657</td>\n",
       "      <td>9.0</td>\n",
       "    </tr>\n",
       "    <tr>\n",
       "      <th>6</th>\n",
       "      <td>Manhattan</td>\n",
       "      <td>Tribeca</td>\n",
       "      <td>40.721522</td>\n",
       "      <td>-74.010683</td>\n",
       "      <td>9.1</td>\n",
       "    </tr>\n",
       "    <tr>\n",
       "      <th>7</th>\n",
       "      <td>Manhattan</td>\n",
       "      <td>West Village</td>\n",
       "      <td>40.734434</td>\n",
       "      <td>-74.006180</td>\n",
       "      <td>9.0</td>\n",
       "    </tr>\n",
       "  </tbody>\n",
       "</table>\n",
       "</div>"
      ],
      "text/plain": [
       "     Borough       Neighborhood   Latitude  Longitude  Average Rating\n",
       "0  Manhattan  Battery Park City  40.711932 -74.016869             9.1\n",
       "1  Manhattan       Civic Center  40.715229 -74.005415             9.1\n",
       "2  Manhattan           Flatiron  40.739673 -73.990947             9.0\n",
       "3  Manhattan  Greenwich Village  40.726933 -73.999914             9.0\n",
       "4  Manhattan       Little Italy  40.719324 -73.997305             9.0\n",
       "5  Manhattan               Soho  40.722184 -74.000657             9.0\n",
       "6  Manhattan            Tribeca  40.721522 -74.010683             9.1\n",
       "7  Manhattan       West Village  40.734434 -74.006180             9.0"
      ]
     },
     "execution_count": 162,
     "metadata": {},
     "output_type": "execute_result"
    }
   ],
   "source": [
    "ny_neighborhood_stats=pd.merge(ny_neighborhood_stats,new_york_data, on='Neighborhood')\n",
    "ny_neighborhood_stats=ny_neighborhood_stats[['Borough','Neighborhood','Latitude','Longitude','Average Rating']]\n",
    "ny_neighborhood_stats"
   ]
  },
  {
   "cell_type": "markdown",
   "metadata": {},
   "source": [
    "Now we will show this data on a map"
   ]
  },
  {
   "cell_type": "markdown",
   "metadata": {},
   "source": [
    "Now we define a function to get the geocodes i.e latitude and longitude of a given location using geopy."
   ]
  },
  {
   "cell_type": "code",
   "execution_count": 163,
   "metadata": {},
   "outputs": [],
   "source": [
    "def geo_location(address):\n",
    "    # get geo location of address\n",
    "    geolocator = Nominatim(user_agent=\"ny_explorer\")\n",
    "    location = geolocator.geocode(address)\n",
    "    latitude = location.latitude\n",
    "    longitude = location.longitude\n",
    "    return latitude,longitude"
   ]
  },
  {
   "cell_type": "code",
   "execution_count": 164,
   "metadata": {},
   "outputs": [],
   "source": [
    "# create map and display it\n",
    "ny_map = folium.Map(location=geo_location('New York'), zoom_start=12)\n",
    "\n",
    "# instantiate a feature group for the incidents in the dataframe\n",
    "incidents = folium.map.FeatureGroup()\n",
    "\n",
    "# loop through the 100 crimes and add each to the incidents feature group\n",
    "for lat, lng, in ny_neighborhood_stats[['Latitude','Longitude']].values:\n",
    "    incidents.add_child(\n",
    "        folium.CircleMarker(\n",
    "            [lat, lng],\n",
    "            radius=10, # define how big you want the circle markers to be\n",
    "            color='yellow',\n",
    "            fill=True,\n",
    "            fill_color='blue',\n",
    "            fill_opacity=0.6\n",
    "        )\n",
    "    )"
   ]
  },
  {
   "cell_type": "markdown",
   "metadata": {},
   "source": [
    "Lets add a new field to dataframe for labeling purpose"
   ]
  },
  {
   "cell_type": "code",
   "execution_count": 165,
   "metadata": {},
   "outputs": [],
   "source": [
    "ny_neighborhood_stats['Label']=ny_neighborhood_stats['Neighborhood']+', '+ny_neighborhood_stats['Borough']+'('+ny_neighborhood_stats['Average Rating'].map(str)+')'"
   ]
  },
  {
   "cell_type": "code",
   "execution_count": 166,
   "metadata": {},
   "outputs": [
    {
     "data": {
      "text/html": [
       "<div style=\"width:100%;\"><div style=\"position:relative;width:100%;height:0;padding-bottom:60%;\"><iframe src=\"about:blank\" style=\"position:absolute;width:100%;height:100%;left:0;top:0;border:none !important;\" data-html=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 onload=\"this.contentDocument.open();this.contentDocument.write(atob(this.getAttribute('data-html')));this.contentDocument.close();\" allowfullscreen webkitallowfullscreen mozallowfullscreen></iframe></div></div>"
      ],
      "text/plain": [
       "<folium.folium.Map at 0x7f82e827ccf8>"
      ]
     },
     "execution_count": 166,
     "metadata": {},
     "output_type": "execute_result"
    }
   ],
   "source": [
    "# add pop-up text to each marker on the map\n",
    "for lat, lng, label in ny_neighborhood_stats[['Latitude','Longitude','Label']].values:\n",
    "    folium.Marker([lat, lng], popup=label).add_to(ny_map)        \n",
    "# add incidents to map\n",
    "ny_map.add_child(incidents)"
   ]
  },
  {
   "cell_type": "markdown",
   "metadata": {},
   "source": [
    "Now that we have visualized the Neighborhoods.\n",
    "Lets Visualize Boroughs based on average Rating"
   ]
  },
  {
   "cell_type": "code",
   "execution_count": 135,
   "metadata": {},
   "outputs": [
    {
     "name": "stdout",
     "output_type": "stream",
     "text": [
      "GeoJSON file downloaded!\n"
     ]
    }
   ],
   "source": [
    "# download geojson file\n",
    "!wget --quiet https://data.cityofnewyork.us/api/views/7t3b-ywvw/rows.json?accessType=DOWNLOAD -O BoroughBoundaries.json\n",
    "    \n",
    "print('GeoJSON file downloaded!')"
   ]
  },
  {
   "cell_type": "code",
   "execution_count": 136,
   "metadata": {},
   "outputs": [],
   "source": [
    "ny_map = folium.Map(location=geo_location('New York'), zoom_start=12)\n",
    "ny_geo = r'BoroughBoundaries.json'\n",
    "\n",
    "ny_map.choropleth(\n",
    "    geo_data=ny_geo,\n",
    "    data=ny_borough_stats,\n",
    "    columns=['Borough', 'Average Rating'],\n",
    "    key_on='feature.properties.boro_name',\n",
    "    fill_color='YlOrRd', \n",
    "    fill_opacity=0.7, \n",
    "    line_opacity=0.2,\n",
    "    legend_name='Average Rating'\n",
    ")\n",
    "\n",
    "# display map\n",
    "ny_map\n",
    "\n",
    "# as this is huge map data , we will save it to a file\n",
    "ny_map.save('borough_rating.html')"
   ]
  },
  {
   "cell_type": "markdown",
   "metadata": {},
   "source": [
    "# 5. Results / Conclusion"
   ]
  },
  {
   "cell_type": "markdown",
   "metadata": {},
   "source": [
    "- Manhattan and Brooklyn have the best rated Vegetarian restaurants on average.\n",
    "\n",
    "- Manhattan and Brooklyn have the least amount of Vegetarian restaurants per borough.\n",
    "\n",
    "- However, of note, East Williamsburg of Brooklyn is the neighborhood in all of NYC with the most Vegetarian Restaurants. \n",
    "\n",
    "- Despite Manhattan having the least number of neighborhoods in all five boroughs, it has the most Vegetarian restaurants. \n",
    "\n",
    "- Based on this information, I would state that Manhattan and Brooklyn are the best locations for Vegetarian cuisine in NYC. \n",
    "\n",
    "- To have the best shot of success, I would open an Vegetarian restaurants in Brooklyn. Brooklyn has multiple neighborhoods with average ratings exceeding 8.0 of a scale of 1.0 to 10.0 and has the least number of Vegetarian restaurants making competition easier than in other boroughs. \n",
    "\n",
    "- Finally, I would go to East Williamsburg in Brooklyn for the best Vegetarian food based on 652 likes.\n",
    "\n",
    "- As a final note, all of the above analysis is depended on the adequacy and accuracy of Four Square data. A more comprehensive analysis and future work would need to incorporate data from other external databases.\n"
   ]
  }
 ],
 "metadata": {
  "kernelspec": {
   "display_name": "Python 3.6",
   "language": "python",
   "name": "python3"
  },
  "language_info": {
   "codemirror_mode": {
    "name": "ipython",
    "version": 3
   },
   "file_extension": ".py",
   "mimetype": "text/x-python",
   "name": "python",
   "nbconvert_exporter": "python",
   "pygments_lexer": "ipython3",
   "version": "3.6.9"
  }
 },
 "nbformat": 4,
 "nbformat_minor": 1
}
